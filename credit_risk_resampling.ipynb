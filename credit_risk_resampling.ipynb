{
 "cells": [
  {
   "cell_type": "markdown",
   "metadata": {},
   "source": [
    "# Credit Risk Resampling Techniques"
   ]
  },
  {
   "cell_type": "code",
   "execution_count": 1,
   "metadata": {},
   "outputs": [],
   "source": [
    "import warnings\n",
    "warnings.filterwarnings('ignore')"
   ]
  },
  {
   "cell_type": "code",
   "execution_count": 2,
   "metadata": {},
   "outputs": [],
   "source": [
    "import numpy as np\n",
    "import pandas as pd\n",
    "from pathlib import Path\n",
    "from collections import Counter"
   ]
  },
  {
   "cell_type": "code",
   "execution_count": 3,
   "metadata": {},
   "outputs": [],
   "source": [
    "# sklearn dependencies\n",
    "from sklearn.model_selection import train_test_split\n",
    "from sklearn.preprocessing import StandardScaler\n",
    "from sklearn.linear_model import LogisticRegression\n",
    "from sklearn.metrics import accuracy_score\n",
    "from sklearn.metrics import confusion_matrix, classification_report\n",
    "from sklearn.metrics import balanced_accuracy_score\n",
    "from sklearn.metrics import ConfusionMatrixDisplay"
   ]
  },
  {
   "cell_type": "code",
   "execution_count": 4,
   "metadata": {},
   "outputs": [],
   "source": [
    "# imblearn dependencies\n",
    "from imblearn.metrics import classification_report_imbalanced\n",
    "from imblearn.over_sampling import RandomOverSampler\n",
    "from imblearn.over_sampling import SMOTE\n",
    "from imblearn.under_sampling import RandomUnderSampler\n",
    "from imblearn.under_sampling import ClusterCentroids\n",
    "from imblearn.combine import SMOTEENN"
   ]
  },
  {
   "cell_type": "markdown",
   "metadata": {},
   "source": [
    "## Deliverable 1"
   ]
  },
  {
   "cell_type": "markdown",
   "metadata": {},
   "source": [
    "### Read the CSV and Perform Basic Data Cleaning"
   ]
  },
  {
   "cell_type": "code",
   "execution_count": 5,
   "metadata": {
    "tags": []
   },
   "outputs": [
    {
     "data": {
      "text/html": [
       "<div>\n",
       "<style scoped>\n",
       "    .dataframe tbody tr th:only-of-type {\n",
       "        vertical-align: middle;\n",
       "    }\n",
       "\n",
       "    .dataframe tbody tr th {\n",
       "        vertical-align: top;\n",
       "    }\n",
       "\n",
       "    .dataframe thead th {\n",
       "        text-align: right;\n",
       "    }\n",
       "</style>\n",
       "<table border=\"1\" class=\"dataframe\">\n",
       "  <thead>\n",
       "    <tr style=\"text-align: right;\">\n",
       "      <th></th>\n",
       "      <th>id</th>\n",
       "      <th>member_id</th>\n",
       "      <th>loan_amnt</th>\n",
       "      <th>funded_amnt</th>\n",
       "      <th>funded_amnt_inv</th>\n",
       "      <th>term</th>\n",
       "      <th>int_rate</th>\n",
       "      <th>installment</th>\n",
       "      <th>grade</th>\n",
       "      <th>sub_grade</th>\n",
       "      <th>...</th>\n",
       "      <th>orig_projected_additional_accrued_interest</th>\n",
       "      <th>hardship_payoff_balance_amount</th>\n",
       "      <th>hardship_last_payment_amount</th>\n",
       "      <th>debt_settlement_flag</th>\n",
       "      <th>debt_settlement_flag_date</th>\n",
       "      <th>settlement_status</th>\n",
       "      <th>settlement_date</th>\n",
       "      <th>settlement_amount</th>\n",
       "      <th>settlement_percentage</th>\n",
       "      <th>settlement_term</th>\n",
       "    </tr>\n",
       "  </thead>\n",
       "  <tbody>\n",
       "    <tr>\n",
       "      <th>0</th>\n",
       "      <td>NaN</td>\n",
       "      <td>NaN</td>\n",
       "      <td>20000.0</td>\n",
       "      <td>20000.0</td>\n",
       "      <td>20000.0</td>\n",
       "      <td>60 months</td>\n",
       "      <td>17.19%</td>\n",
       "      <td>499.10</td>\n",
       "      <td>C</td>\n",
       "      <td>C5</td>\n",
       "      <td>...</td>\n",
       "      <td>NaN</td>\n",
       "      <td>NaN</td>\n",
       "      <td>NaN</td>\n",
       "      <td>N</td>\n",
       "      <td>NaN</td>\n",
       "      <td>NaN</td>\n",
       "      <td>NaN</td>\n",
       "      <td>NaN</td>\n",
       "      <td>NaN</td>\n",
       "      <td>NaN</td>\n",
       "    </tr>\n",
       "    <tr>\n",
       "      <th>1</th>\n",
       "      <td>NaN</td>\n",
       "      <td>NaN</td>\n",
       "      <td>21225.0</td>\n",
       "      <td>21225.0</td>\n",
       "      <td>21225.0</td>\n",
       "      <td>60 months</td>\n",
       "      <td>14.74%</td>\n",
       "      <td>502.05</td>\n",
       "      <td>C</td>\n",
       "      <td>C2</td>\n",
       "      <td>...</td>\n",
       "      <td>NaN</td>\n",
       "      <td>NaN</td>\n",
       "      <td>NaN</td>\n",
       "      <td>N</td>\n",
       "      <td>NaN</td>\n",
       "      <td>NaN</td>\n",
       "      <td>NaN</td>\n",
       "      <td>NaN</td>\n",
       "      <td>NaN</td>\n",
       "      <td>NaN</td>\n",
       "    </tr>\n",
       "    <tr>\n",
       "      <th>2</th>\n",
       "      <td>NaN</td>\n",
       "      <td>NaN</td>\n",
       "      <td>5000.0</td>\n",
       "      <td>5000.0</td>\n",
       "      <td>5000.0</td>\n",
       "      <td>36 months</td>\n",
       "      <td>17.97%</td>\n",
       "      <td>180.69</td>\n",
       "      <td>D</td>\n",
       "      <td>D1</td>\n",
       "      <td>...</td>\n",
       "      <td>NaN</td>\n",
       "      <td>NaN</td>\n",
       "      <td>NaN</td>\n",
       "      <td>N</td>\n",
       "      <td>NaN</td>\n",
       "      <td>NaN</td>\n",
       "      <td>NaN</td>\n",
       "      <td>NaN</td>\n",
       "      <td>NaN</td>\n",
       "      <td>NaN</td>\n",
       "    </tr>\n",
       "    <tr>\n",
       "      <th>3</th>\n",
       "      <td>NaN</td>\n",
       "      <td>NaN</td>\n",
       "      <td>20000.0</td>\n",
       "      <td>20000.0</td>\n",
       "      <td>20000.0</td>\n",
       "      <td>36 months</td>\n",
       "      <td>8.19%</td>\n",
       "      <td>628.49</td>\n",
       "      <td>A</td>\n",
       "      <td>A4</td>\n",
       "      <td>...</td>\n",
       "      <td>NaN</td>\n",
       "      <td>NaN</td>\n",
       "      <td>NaN</td>\n",
       "      <td>N</td>\n",
       "      <td>NaN</td>\n",
       "      <td>NaN</td>\n",
       "      <td>NaN</td>\n",
       "      <td>NaN</td>\n",
       "      <td>NaN</td>\n",
       "      <td>NaN</td>\n",
       "    </tr>\n",
       "    <tr>\n",
       "      <th>4</th>\n",
       "      <td>NaN</td>\n",
       "      <td>NaN</td>\n",
       "      <td>12000.0</td>\n",
       "      <td>12000.0</td>\n",
       "      <td>12000.0</td>\n",
       "      <td>60 months</td>\n",
       "      <td>15.57%</td>\n",
       "      <td>289.09</td>\n",
       "      <td>C</td>\n",
       "      <td>C3</td>\n",
       "      <td>...</td>\n",
       "      <td>NaN</td>\n",
       "      <td>NaN</td>\n",
       "      <td>NaN</td>\n",
       "      <td>N</td>\n",
       "      <td>NaN</td>\n",
       "      <td>NaN</td>\n",
       "      <td>NaN</td>\n",
       "      <td>NaN</td>\n",
       "      <td>NaN</td>\n",
       "      <td>NaN</td>\n",
       "    </tr>\n",
       "  </tbody>\n",
       "</table>\n",
       "<p>5 rows × 144 columns</p>\n",
       "</div>"
      ],
      "text/plain": [
       "    id  member_id  loan_amnt  funded_amnt  funded_amnt_inv        term  \\\n",
       "0  NaN        NaN    20000.0      20000.0          20000.0   60 months   \n",
       "1  NaN        NaN    21225.0      21225.0          21225.0   60 months   \n",
       "2  NaN        NaN     5000.0       5000.0           5000.0   36 months   \n",
       "3  NaN        NaN    20000.0      20000.0          20000.0   36 months   \n",
       "4  NaN        NaN    12000.0      12000.0          12000.0   60 months   \n",
       "\n",
       "  int_rate  installment grade sub_grade  ...  \\\n",
       "0   17.19%       499.10     C        C5  ...   \n",
       "1   14.74%       502.05     C        C2  ...   \n",
       "2   17.97%       180.69     D        D1  ...   \n",
       "3    8.19%       628.49     A        A4  ...   \n",
       "4   15.57%       289.09     C        C3  ...   \n",
       "\n",
       "  orig_projected_additional_accrued_interest hardship_payoff_balance_amount  \\\n",
       "0                                        NaN                            NaN   \n",
       "1                                        NaN                            NaN   \n",
       "2                                        NaN                            NaN   \n",
       "3                                        NaN                            NaN   \n",
       "4                                        NaN                            NaN   \n",
       "\n",
       "  hardship_last_payment_amount  debt_settlement_flag  \\\n",
       "0                          NaN                     N   \n",
       "1                          NaN                     N   \n",
       "2                          NaN                     N   \n",
       "3                          NaN                     N   \n",
       "4                          NaN                     N   \n",
       "\n",
       "  debt_settlement_flag_date settlement_status settlement_date  \\\n",
       "0                       NaN               NaN             NaN   \n",
       "1                       NaN               NaN             NaN   \n",
       "2                       NaN               NaN             NaN   \n",
       "3                       NaN               NaN             NaN   \n",
       "4                       NaN               NaN             NaN   \n",
       "\n",
       "  settlement_amount  settlement_percentage  settlement_term  \n",
       "0               NaN                    NaN              NaN  \n",
       "1               NaN                    NaN              NaN  \n",
       "2               NaN                    NaN              NaN  \n",
       "3               NaN                    NaN              NaN  \n",
       "4               NaN                    NaN              NaN  \n",
       "\n",
       "[5 rows x 144 columns]"
      ]
     },
     "execution_count": 5,
     "metadata": {},
     "output_type": "execute_result"
    }
   ],
   "source": [
    "# read csv\n",
    "file_path = Path('./data/LoanStats_2019Q1.csv')\n",
    "df = pd.read_csv(file_path, skiprows=1)[:-2]\n",
    "df.head()"
   ]
  },
  {
   "cell_type": "code",
   "execution_count": 6,
   "metadata": {},
   "outputs": [
    {
     "name": "stdout",
     "output_type": "stream",
     "text": [
      "<class 'pandas.core.frame.DataFrame'>\n",
      "RangeIndex: 115675 entries, 0 to 115674\n",
      "Columns: 144 entries, id to settlement_term\n",
      "dtypes: float64(117), object(27)\n",
      "memory usage: 127.1+ MB\n"
     ]
    }
   ],
   "source": [
    "df.info()"
   ]
  },
  {
   "cell_type": "code",
   "execution_count": 7,
   "metadata": {},
   "outputs": [],
   "source": [
    "columns = [\n",
    "    \"loan_amnt\", \"int_rate\", \"installment\", \"home_ownership\",\n",
    "    \"annual_inc\", \"verification_status\", \"issue_d\", \"loan_status\",\n",
    "    \"pymnt_plan\", \"dti\", \"delinq_2yrs\", \"inq_last_6mths\",\n",
    "    \"open_acc\", \"pub_rec\", \"revol_bal\", \"total_acc\",\n",
    "    \"initial_list_status\", \"out_prncp\", \"out_prncp_inv\", \"total_pymnt\",\n",
    "    \"total_pymnt_inv\", \"total_rec_prncp\", \"total_rec_int\", \"total_rec_late_fee\",\n",
    "    \"recoveries\", \"collection_recovery_fee\", \"last_pymnt_amnt\", \"next_pymnt_d\",\n",
    "    \"collections_12_mths_ex_med\", \"policy_code\", \"application_type\", \"acc_now_delinq\",\n",
    "    \"tot_coll_amt\", \"tot_cur_bal\", \"open_acc_6m\", \"open_act_il\",\n",
    "    \"open_il_12m\", \"open_il_24m\", \"mths_since_rcnt_il\", \"total_bal_il\",\n",
    "    \"il_util\", \"open_rv_12m\", \"open_rv_24m\", \"max_bal_bc\",\n",
    "    \"all_util\", \"total_rev_hi_lim\", \"inq_fi\", \"total_cu_tl\",\n",
    "    \"inq_last_12m\", \"acc_open_past_24mths\", \"avg_cur_bal\", \"bc_open_to_buy\",\n",
    "    \"bc_util\", \"chargeoff_within_12_mths\", \"delinq_amnt\", \"mo_sin_old_il_acct\",\n",
    "    \"mo_sin_old_rev_tl_op\", \"mo_sin_rcnt_rev_tl_op\", \"mo_sin_rcnt_tl\", \"mort_acc\",\n",
    "    \"mths_since_recent_bc\", \"mths_since_recent_inq\", \"num_accts_ever_120_pd\", \"num_actv_bc_tl\",\n",
    "    \"num_actv_rev_tl\", \"num_bc_sats\", \"num_bc_tl\", \"num_il_tl\",\n",
    "    \"num_op_rev_tl\", \"num_rev_accts\", \"num_rev_tl_bal_gt_0\",\n",
    "    \"num_sats\", \"num_tl_120dpd_2m\", \"num_tl_30dpd\", \"num_tl_90g_dpd_24m\",\n",
    "    \"num_tl_op_past_12m\", \"pct_tl_nvr_dlq\", \"percent_bc_gt_75\", \"pub_rec_bankruptcies\",\n",
    "    \"tax_liens\", \"tot_hi_cred_lim\", \"total_bal_ex_mort\", \"total_bc_limit\",\n",
    "    \"total_il_high_credit_limit\", \"hardship_flag\", \"debt_settlement_flag\"\n",
    "]\n",
    "\n",
    "target = [\"loan_status\"]"
   ]
  },
  {
   "cell_type": "code",
   "execution_count": 8,
   "metadata": {},
   "outputs": [
    {
     "name": "stdout",
     "output_type": "stream",
     "text": [
      "86\n"
     ]
    }
   ],
   "source": [
    "print(len(columns))"
   ]
  },
  {
   "cell_type": "code",
   "execution_count": 9,
   "metadata": {},
   "outputs": [
    {
     "data": {
      "text/html": [
       "<div>\n",
       "<style scoped>\n",
       "    .dataframe tbody tr th:only-of-type {\n",
       "        vertical-align: middle;\n",
       "    }\n",
       "\n",
       "    .dataframe tbody tr th {\n",
       "        vertical-align: top;\n",
       "    }\n",
       "\n",
       "    .dataframe thead th {\n",
       "        text-align: right;\n",
       "    }\n",
       "</style>\n",
       "<table border=\"1\" class=\"dataframe\">\n",
       "  <thead>\n",
       "    <tr style=\"text-align: right;\">\n",
       "      <th></th>\n",
       "      <th>loan_amnt</th>\n",
       "      <th>int_rate</th>\n",
       "      <th>installment</th>\n",
       "      <th>home_ownership</th>\n",
       "      <th>annual_inc</th>\n",
       "      <th>verification_status</th>\n",
       "      <th>issue_d</th>\n",
       "      <th>loan_status</th>\n",
       "      <th>pymnt_plan</th>\n",
       "      <th>dti</th>\n",
       "      <th>...</th>\n",
       "      <th>pct_tl_nvr_dlq</th>\n",
       "      <th>percent_bc_gt_75</th>\n",
       "      <th>pub_rec_bankruptcies</th>\n",
       "      <th>tax_liens</th>\n",
       "      <th>tot_hi_cred_lim</th>\n",
       "      <th>total_bal_ex_mort</th>\n",
       "      <th>total_bc_limit</th>\n",
       "      <th>total_il_high_credit_limit</th>\n",
       "      <th>hardship_flag</th>\n",
       "      <th>debt_settlement_flag</th>\n",
       "    </tr>\n",
       "  </thead>\n",
       "  <tbody>\n",
       "    <tr>\n",
       "      <th>0</th>\n",
       "      <td>20000.0</td>\n",
       "      <td>17.19%</td>\n",
       "      <td>499.10</td>\n",
       "      <td>RENT</td>\n",
       "      <td>47000.0</td>\n",
       "      <td>Source Verified</td>\n",
       "      <td>Mar-2019</td>\n",
       "      <td>Issued</td>\n",
       "      <td>n</td>\n",
       "      <td>14.02</td>\n",
       "      <td>...</td>\n",
       "      <td>98.0</td>\n",
       "      <td>12.5</td>\n",
       "      <td>0.0</td>\n",
       "      <td>0.0</td>\n",
       "      <td>75824.0</td>\n",
       "      <td>31546.0</td>\n",
       "      <td>33800.0</td>\n",
       "      <td>21524.0</td>\n",
       "      <td>N</td>\n",
       "      <td>N</td>\n",
       "    </tr>\n",
       "    <tr>\n",
       "      <th>1</th>\n",
       "      <td>21225.0</td>\n",
       "      <td>14.74%</td>\n",
       "      <td>502.05</td>\n",
       "      <td>MORTGAGE</td>\n",
       "      <td>225000.0</td>\n",
       "      <td>Not Verified</td>\n",
       "      <td>Mar-2019</td>\n",
       "      <td>Issued</td>\n",
       "      <td>n</td>\n",
       "      <td>16.80</td>\n",
       "      <td>...</td>\n",
       "      <td>100.0</td>\n",
       "      <td>50.0</td>\n",
       "      <td>1.0</td>\n",
       "      <td>0.0</td>\n",
       "      <td>747075.0</td>\n",
       "      <td>209426.0</td>\n",
       "      <td>53500.0</td>\n",
       "      <td>128175.0</td>\n",
       "      <td>N</td>\n",
       "      <td>N</td>\n",
       "    </tr>\n",
       "    <tr>\n",
       "      <th>2</th>\n",
       "      <td>5000.0</td>\n",
       "      <td>17.97%</td>\n",
       "      <td>180.69</td>\n",
       "      <td>MORTGAGE</td>\n",
       "      <td>62000.0</td>\n",
       "      <td>Not Verified</td>\n",
       "      <td>Mar-2019</td>\n",
       "      <td>Issued</td>\n",
       "      <td>n</td>\n",
       "      <td>19.82</td>\n",
       "      <td>...</td>\n",
       "      <td>66.7</td>\n",
       "      <td>50.0</td>\n",
       "      <td>0.0</td>\n",
       "      <td>0.0</td>\n",
       "      <td>255738.0</td>\n",
       "      <td>31615.0</td>\n",
       "      <td>9400.0</td>\n",
       "      <td>39938.0</td>\n",
       "      <td>N</td>\n",
       "      <td>N</td>\n",
       "    </tr>\n",
       "    <tr>\n",
       "      <th>3</th>\n",
       "      <td>20000.0</td>\n",
       "      <td>8.19%</td>\n",
       "      <td>628.49</td>\n",
       "      <td>MORTGAGE</td>\n",
       "      <td>200000.0</td>\n",
       "      <td>Not Verified</td>\n",
       "      <td>Mar-2019</td>\n",
       "      <td>Issued</td>\n",
       "      <td>n</td>\n",
       "      <td>22.66</td>\n",
       "      <td>...</td>\n",
       "      <td>95.7</td>\n",
       "      <td>22.2</td>\n",
       "      <td>0.0</td>\n",
       "      <td>0.0</td>\n",
       "      <td>448069.0</td>\n",
       "      <td>84744.0</td>\n",
       "      <td>49400.0</td>\n",
       "      <td>105180.0</td>\n",
       "      <td>N</td>\n",
       "      <td>N</td>\n",
       "    </tr>\n",
       "    <tr>\n",
       "      <th>4</th>\n",
       "      <td>12000.0</td>\n",
       "      <td>15.57%</td>\n",
       "      <td>289.09</td>\n",
       "      <td>MORTGAGE</td>\n",
       "      <td>49000.0</td>\n",
       "      <td>Source Verified</td>\n",
       "      <td>Mar-2019</td>\n",
       "      <td>Issued</td>\n",
       "      <td>n</td>\n",
       "      <td>13.47</td>\n",
       "      <td>...</td>\n",
       "      <td>86.1</td>\n",
       "      <td>14.3</td>\n",
       "      <td>0.0</td>\n",
       "      <td>0.0</td>\n",
       "      <td>189260.0</td>\n",
       "      <td>106025.0</td>\n",
       "      <td>24400.0</td>\n",
       "      <td>68860.0</td>\n",
       "      <td>N</td>\n",
       "      <td>N</td>\n",
       "    </tr>\n",
       "  </tbody>\n",
       "</table>\n",
       "<p>5 rows × 86 columns</p>\n",
       "</div>"
      ],
      "text/plain": [
       "   loan_amnt int_rate  installment home_ownership  annual_inc  \\\n",
       "0    20000.0   17.19%       499.10           RENT     47000.0   \n",
       "1    21225.0   14.74%       502.05       MORTGAGE    225000.0   \n",
       "2     5000.0   17.97%       180.69       MORTGAGE     62000.0   \n",
       "3    20000.0    8.19%       628.49       MORTGAGE    200000.0   \n",
       "4    12000.0   15.57%       289.09       MORTGAGE     49000.0   \n",
       "\n",
       "  verification_status   issue_d loan_status pymnt_plan    dti  ...  \\\n",
       "0     Source Verified  Mar-2019      Issued          n  14.02  ...   \n",
       "1        Not Verified  Mar-2019      Issued          n  16.80  ...   \n",
       "2        Not Verified  Mar-2019      Issued          n  19.82  ...   \n",
       "3        Not Verified  Mar-2019      Issued          n  22.66  ...   \n",
       "4     Source Verified  Mar-2019      Issued          n  13.47  ...   \n",
       "\n",
       "   pct_tl_nvr_dlq  percent_bc_gt_75  pub_rec_bankruptcies  tax_liens  \\\n",
       "0            98.0              12.5                   0.0        0.0   \n",
       "1           100.0              50.0                   1.0        0.0   \n",
       "2            66.7              50.0                   0.0        0.0   \n",
       "3            95.7              22.2                   0.0        0.0   \n",
       "4            86.1              14.3                   0.0        0.0   \n",
       "\n",
       "   tot_hi_cred_lim  total_bal_ex_mort total_bc_limit  \\\n",
       "0          75824.0            31546.0        33800.0   \n",
       "1         747075.0           209426.0        53500.0   \n",
       "2         255738.0            31615.0         9400.0   \n",
       "3         448069.0            84744.0        49400.0   \n",
       "4         189260.0           106025.0        24400.0   \n",
       "\n",
       "   total_il_high_credit_limit  hardship_flag  debt_settlement_flag  \n",
       "0                     21524.0              N                     N  \n",
       "1                    128175.0              N                     N  \n",
       "2                     39938.0              N                     N  \n",
       "3                    105180.0              N                     N  \n",
       "4                     68860.0              N                     N  \n",
       "\n",
       "[5 rows x 86 columns]"
      ]
     },
     "execution_count": 9,
     "metadata": {},
     "output_type": "execute_result"
    }
   ],
   "source": [
    "# Load the data\n",
    "loans_df = df.loc[:, columns].copy()\n",
    "loans_df.head()"
   ]
  },
  {
   "cell_type": "code",
   "execution_count": 10,
   "metadata": {
    "collapsed": true,
    "jupyter": {
     "outputs_hidden": true
    },
    "tags": []
   },
   "outputs": [
    {
     "name": "stdout",
     "output_type": "stream",
     "text": [
      "<class 'pandas.core.frame.DataFrame'>\n",
      "RangeIndex: 115675 entries, 0 to 115674\n",
      "Data columns (total 86 columns):\n",
      " #   Column                      Non-Null Count   Dtype  \n",
      "---  ------                      --------------   -----  \n",
      " 0   loan_amnt                   115675 non-null  float64\n",
      " 1   int_rate                    115675 non-null  object \n",
      " 2   installment                 115675 non-null  float64\n",
      " 3   home_ownership              115675 non-null  object \n",
      " 4   annual_inc                  115675 non-null  float64\n",
      " 5   verification_status         115675 non-null  object \n",
      " 6   issue_d                     115675 non-null  object \n",
      " 7   loan_status                 115675 non-null  object \n",
      " 8   pymnt_plan                  115675 non-null  object \n",
      " 9   dti                         115418 non-null  float64\n",
      " 10  delinq_2yrs                 115675 non-null  float64\n",
      " 11  inq_last_6mths              115675 non-null  float64\n",
      " 12  open_acc                    115675 non-null  float64\n",
      " 13  pub_rec                     115675 non-null  float64\n",
      " 14  revol_bal                   115675 non-null  float64\n",
      " 15  total_acc                   115675 non-null  float64\n",
      " 16  initial_list_status         115675 non-null  object \n",
      " 17  out_prncp                   115675 non-null  float64\n",
      " 18  out_prncp_inv               115675 non-null  float64\n",
      " 19  total_pymnt                 115675 non-null  float64\n",
      " 20  total_pymnt_inv             115675 non-null  float64\n",
      " 21  total_rec_prncp             115675 non-null  float64\n",
      " 22  total_rec_int               115675 non-null  float64\n",
      " 23  total_rec_late_fee          115675 non-null  float64\n",
      " 24  recoveries                  115675 non-null  float64\n",
      " 25  collection_recovery_fee     115675 non-null  float64\n",
      " 26  last_pymnt_amnt             115675 non-null  float64\n",
      " 27  next_pymnt_d                113477 non-null  object \n",
      " 28  collections_12_mths_ex_med  115675 non-null  float64\n",
      " 29  policy_code                 115675 non-null  float64\n",
      " 30  application_type            115675 non-null  object \n",
      " 31  acc_now_delinq              115675 non-null  float64\n",
      " 32  tot_coll_amt                115675 non-null  float64\n",
      " 33  tot_cur_bal                 115675 non-null  float64\n",
      " 34  open_acc_6m                 115675 non-null  float64\n",
      " 35  open_act_il                 115675 non-null  float64\n",
      " 36  open_il_12m                 115675 non-null  float64\n",
      " 37  open_il_24m                 115675 non-null  float64\n",
      " 38  mths_since_rcnt_il          112158 non-null  float64\n",
      " 39  total_bal_il                115675 non-null  float64\n",
      " 40  il_util                     98356 non-null   float64\n",
      " 41  open_rv_12m                 115675 non-null  float64\n",
      " 42  open_rv_24m                 115675 non-null  float64\n",
      " 43  max_bal_bc                  115675 non-null  float64\n",
      " 44  all_util                    115651 non-null  float64\n",
      " 45  total_rev_hi_lim            115675 non-null  float64\n",
      " 46  inq_fi                      115675 non-null  float64\n",
      " 47  total_cu_tl                 115675 non-null  float64\n",
      " 48  inq_last_12m                115675 non-null  float64\n",
      " 49  acc_open_past_24mths        115675 non-null  float64\n",
      " 50  avg_cur_bal                 115668 non-null  float64\n",
      " 51  bc_open_to_buy              114352 non-null  float64\n",
      " 52  bc_util                     114297 non-null  float64\n",
      " 53  chargeoff_within_12_mths    115675 non-null  float64\n",
      " 54  delinq_amnt                 115675 non-null  float64\n",
      " 55  mo_sin_old_il_acct          112158 non-null  float64\n",
      " 56  mo_sin_old_rev_tl_op        115675 non-null  float64\n",
      " 57  mo_sin_rcnt_rev_tl_op       115675 non-null  float64\n",
      " 58  mo_sin_rcnt_tl              115675 non-null  float64\n",
      " 59  mort_acc                    115675 non-null  float64\n",
      " 60  mths_since_recent_bc        114417 non-null  float64\n",
      " 61  mths_since_recent_inq       101318 non-null  float64\n",
      " 62  num_accts_ever_120_pd       115675 non-null  float64\n",
      " 63  num_actv_bc_tl              115675 non-null  float64\n",
      " 64  num_actv_rev_tl             115675 non-null  float64\n",
      " 65  num_bc_sats                 115675 non-null  float64\n",
      " 66  num_bc_tl                   115675 non-null  float64\n",
      " 67  num_il_tl                   115675 non-null  float64\n",
      " 68  num_op_rev_tl               115675 non-null  float64\n",
      " 69  num_rev_accts               115675 non-null  float64\n",
      " 70  num_rev_tl_bal_gt_0         115675 non-null  float64\n",
      " 71  num_sats                    115675 non-null  float64\n",
      " 72  num_tl_120dpd_2m            112529 non-null  float64\n",
      " 73  num_tl_30dpd                115675 non-null  float64\n",
      " 74  num_tl_90g_dpd_24m          115675 non-null  float64\n",
      " 75  num_tl_op_past_12m          115675 non-null  float64\n",
      " 76  pct_tl_nvr_dlq              115675 non-null  float64\n",
      " 77  percent_bc_gt_75            114346 non-null  float64\n",
      " 78  pub_rec_bankruptcies        115675 non-null  float64\n",
      " 79  tax_liens                   115675 non-null  float64\n",
      " 80  tot_hi_cred_lim             115675 non-null  float64\n",
      " 81  total_bal_ex_mort           115675 non-null  float64\n",
      " 82  total_bc_limit              115675 non-null  float64\n",
      " 83  total_il_high_credit_limit  115675 non-null  float64\n",
      " 84  hardship_flag               115675 non-null  object \n",
      " 85  debt_settlement_flag        115675 non-null  object \n",
      "dtypes: float64(75), object(11)\n",
      "memory usage: 75.9+ MB\n"
     ]
    }
   ],
   "source": [
    "loans_df.info()"
   ]
  },
  {
   "cell_type": "code",
   "execution_count": 11,
   "metadata": {},
   "outputs": [
    {
     "data": {
      "text/html": [
       "<div>\n",
       "<style scoped>\n",
       "    .dataframe tbody tr th:only-of-type {\n",
       "        vertical-align: middle;\n",
       "    }\n",
       "\n",
       "    .dataframe tbody tr th {\n",
       "        vertical-align: top;\n",
       "    }\n",
       "\n",
       "    .dataframe thead th {\n",
       "        text-align: right;\n",
       "    }\n",
       "</style>\n",
       "<table border=\"1\" class=\"dataframe\">\n",
       "  <thead>\n",
       "    <tr style=\"text-align: right;\">\n",
       "      <th></th>\n",
       "      <th>loan_amnt</th>\n",
       "      <th>int_rate</th>\n",
       "      <th>installment</th>\n",
       "      <th>home_ownership</th>\n",
       "      <th>annual_inc</th>\n",
       "      <th>verification_status</th>\n",
       "      <th>issue_d</th>\n",
       "      <th>loan_status</th>\n",
       "      <th>pymnt_plan</th>\n",
       "      <th>dti</th>\n",
       "      <th>...</th>\n",
       "      <th>pct_tl_nvr_dlq</th>\n",
       "      <th>percent_bc_gt_75</th>\n",
       "      <th>pub_rec_bankruptcies</th>\n",
       "      <th>tax_liens</th>\n",
       "      <th>tot_hi_cred_lim</th>\n",
       "      <th>total_bal_ex_mort</th>\n",
       "      <th>total_bc_limit</th>\n",
       "      <th>total_il_high_credit_limit</th>\n",
       "      <th>hardship_flag</th>\n",
       "      <th>debt_settlement_flag</th>\n",
       "    </tr>\n",
       "  </thead>\n",
       "  <tbody>\n",
       "    <tr>\n",
       "      <th>0</th>\n",
       "      <td>20000.0</td>\n",
       "      <td>17.19%</td>\n",
       "      <td>499.10</td>\n",
       "      <td>RENT</td>\n",
       "      <td>47000.0</td>\n",
       "      <td>Source Verified</td>\n",
       "      <td>Mar-2019</td>\n",
       "      <td>Issued</td>\n",
       "      <td>n</td>\n",
       "      <td>14.02</td>\n",
       "      <td>...</td>\n",
       "      <td>98.0</td>\n",
       "      <td>12.5</td>\n",
       "      <td>0.0</td>\n",
       "      <td>0.0</td>\n",
       "      <td>75824.0</td>\n",
       "      <td>31546.0</td>\n",
       "      <td>33800.0</td>\n",
       "      <td>21524.0</td>\n",
       "      <td>N</td>\n",
       "      <td>N</td>\n",
       "    </tr>\n",
       "    <tr>\n",
       "      <th>1</th>\n",
       "      <td>21225.0</td>\n",
       "      <td>14.74%</td>\n",
       "      <td>502.05</td>\n",
       "      <td>MORTGAGE</td>\n",
       "      <td>225000.0</td>\n",
       "      <td>Not Verified</td>\n",
       "      <td>Mar-2019</td>\n",
       "      <td>Issued</td>\n",
       "      <td>n</td>\n",
       "      <td>16.80</td>\n",
       "      <td>...</td>\n",
       "      <td>100.0</td>\n",
       "      <td>50.0</td>\n",
       "      <td>1.0</td>\n",
       "      <td>0.0</td>\n",
       "      <td>747075.0</td>\n",
       "      <td>209426.0</td>\n",
       "      <td>53500.0</td>\n",
       "      <td>128175.0</td>\n",
       "      <td>N</td>\n",
       "      <td>N</td>\n",
       "    </tr>\n",
       "    <tr>\n",
       "      <th>2</th>\n",
       "      <td>5000.0</td>\n",
       "      <td>17.97%</td>\n",
       "      <td>180.69</td>\n",
       "      <td>MORTGAGE</td>\n",
       "      <td>62000.0</td>\n",
       "      <td>Not Verified</td>\n",
       "      <td>Mar-2019</td>\n",
       "      <td>Issued</td>\n",
       "      <td>n</td>\n",
       "      <td>19.82</td>\n",
       "      <td>...</td>\n",
       "      <td>66.7</td>\n",
       "      <td>50.0</td>\n",
       "      <td>0.0</td>\n",
       "      <td>0.0</td>\n",
       "      <td>255738.0</td>\n",
       "      <td>31615.0</td>\n",
       "      <td>9400.0</td>\n",
       "      <td>39938.0</td>\n",
       "      <td>N</td>\n",
       "      <td>N</td>\n",
       "    </tr>\n",
       "    <tr>\n",
       "      <th>3</th>\n",
       "      <td>20000.0</td>\n",
       "      <td>8.19%</td>\n",
       "      <td>628.49</td>\n",
       "      <td>MORTGAGE</td>\n",
       "      <td>200000.0</td>\n",
       "      <td>Not Verified</td>\n",
       "      <td>Mar-2019</td>\n",
       "      <td>Issued</td>\n",
       "      <td>n</td>\n",
       "      <td>22.66</td>\n",
       "      <td>...</td>\n",
       "      <td>95.7</td>\n",
       "      <td>22.2</td>\n",
       "      <td>0.0</td>\n",
       "      <td>0.0</td>\n",
       "      <td>448069.0</td>\n",
       "      <td>84744.0</td>\n",
       "      <td>49400.0</td>\n",
       "      <td>105180.0</td>\n",
       "      <td>N</td>\n",
       "      <td>N</td>\n",
       "    </tr>\n",
       "    <tr>\n",
       "      <th>4</th>\n",
       "      <td>12000.0</td>\n",
       "      <td>15.57%</td>\n",
       "      <td>289.09</td>\n",
       "      <td>MORTGAGE</td>\n",
       "      <td>49000.0</td>\n",
       "      <td>Source Verified</td>\n",
       "      <td>Mar-2019</td>\n",
       "      <td>Issued</td>\n",
       "      <td>n</td>\n",
       "      <td>13.47</td>\n",
       "      <td>...</td>\n",
       "      <td>86.1</td>\n",
       "      <td>14.3</td>\n",
       "      <td>0.0</td>\n",
       "      <td>0.0</td>\n",
       "      <td>189260.0</td>\n",
       "      <td>106025.0</td>\n",
       "      <td>24400.0</td>\n",
       "      <td>68860.0</td>\n",
       "      <td>N</td>\n",
       "      <td>N</td>\n",
       "    </tr>\n",
       "  </tbody>\n",
       "</table>\n",
       "<p>5 rows × 86 columns</p>\n",
       "</div>"
      ],
      "text/plain": [
       "   loan_amnt int_rate  installment home_ownership  annual_inc  \\\n",
       "0    20000.0   17.19%       499.10           RENT     47000.0   \n",
       "1    21225.0   14.74%       502.05       MORTGAGE    225000.0   \n",
       "2     5000.0   17.97%       180.69       MORTGAGE     62000.0   \n",
       "3    20000.0    8.19%       628.49       MORTGAGE    200000.0   \n",
       "4    12000.0   15.57%       289.09       MORTGAGE     49000.0   \n",
       "\n",
       "  verification_status   issue_d loan_status pymnt_plan    dti  ...  \\\n",
       "0     Source Verified  Mar-2019      Issued          n  14.02  ...   \n",
       "1        Not Verified  Mar-2019      Issued          n  16.80  ...   \n",
       "2        Not Verified  Mar-2019      Issued          n  19.82  ...   \n",
       "3        Not Verified  Mar-2019      Issued          n  22.66  ...   \n",
       "4     Source Verified  Mar-2019      Issued          n  13.47  ...   \n",
       "\n",
       "   pct_tl_nvr_dlq  percent_bc_gt_75  pub_rec_bankruptcies  tax_liens  \\\n",
       "0            98.0              12.5                   0.0        0.0   \n",
       "1           100.0              50.0                   1.0        0.0   \n",
       "2            66.7              50.0                   0.0        0.0   \n",
       "3            95.7              22.2                   0.0        0.0   \n",
       "4            86.1              14.3                   0.0        0.0   \n",
       "\n",
       "   tot_hi_cred_lim  total_bal_ex_mort total_bc_limit  \\\n",
       "0          75824.0            31546.0        33800.0   \n",
       "1         747075.0           209426.0        53500.0   \n",
       "2         255738.0            31615.0         9400.0   \n",
       "3         448069.0            84744.0        49400.0   \n",
       "4         189260.0           106025.0        24400.0   \n",
       "\n",
       "   total_il_high_credit_limit  hardship_flag  debt_settlement_flag  \n",
       "0                     21524.0              N                     N  \n",
       "1                    128175.0              N                     N  \n",
       "2                     39938.0              N                     N  \n",
       "3                    105180.0              N                     N  \n",
       "4                     68860.0              N                     N  \n",
       "\n",
       "[5 rows x 86 columns]"
      ]
     },
     "execution_count": 11,
     "metadata": {},
     "output_type": "execute_result"
    }
   ],
   "source": [
    "# Drop the null columns where all values are null\n",
    "loans_df = loans_df.dropna(axis='columns', how='all')\n",
    "loans_df.head()"
   ]
  },
  {
   "cell_type": "code",
   "execution_count": 12,
   "metadata": {
    "collapsed": true,
    "jupyter": {
     "outputs_hidden": true
    },
    "tags": []
   },
   "outputs": [
    {
     "name": "stdout",
     "output_type": "stream",
     "text": [
      "<class 'pandas.core.frame.DataFrame'>\n",
      "RangeIndex: 115675 entries, 0 to 115674\n",
      "Data columns (total 86 columns):\n",
      " #   Column                      Non-Null Count   Dtype  \n",
      "---  ------                      --------------   -----  \n",
      " 0   loan_amnt                   115675 non-null  float64\n",
      " 1   int_rate                    115675 non-null  object \n",
      " 2   installment                 115675 non-null  float64\n",
      " 3   home_ownership              115675 non-null  object \n",
      " 4   annual_inc                  115675 non-null  float64\n",
      " 5   verification_status         115675 non-null  object \n",
      " 6   issue_d                     115675 non-null  object \n",
      " 7   loan_status                 115675 non-null  object \n",
      " 8   pymnt_plan                  115675 non-null  object \n",
      " 9   dti                         115418 non-null  float64\n",
      " 10  delinq_2yrs                 115675 non-null  float64\n",
      " 11  inq_last_6mths              115675 non-null  float64\n",
      " 12  open_acc                    115675 non-null  float64\n",
      " 13  pub_rec                     115675 non-null  float64\n",
      " 14  revol_bal                   115675 non-null  float64\n",
      " 15  total_acc                   115675 non-null  float64\n",
      " 16  initial_list_status         115675 non-null  object \n",
      " 17  out_prncp                   115675 non-null  float64\n",
      " 18  out_prncp_inv               115675 non-null  float64\n",
      " 19  total_pymnt                 115675 non-null  float64\n",
      " 20  total_pymnt_inv             115675 non-null  float64\n",
      " 21  total_rec_prncp             115675 non-null  float64\n",
      " 22  total_rec_int               115675 non-null  float64\n",
      " 23  total_rec_late_fee          115675 non-null  float64\n",
      " 24  recoveries                  115675 non-null  float64\n",
      " 25  collection_recovery_fee     115675 non-null  float64\n",
      " 26  last_pymnt_amnt             115675 non-null  float64\n",
      " 27  next_pymnt_d                113477 non-null  object \n",
      " 28  collections_12_mths_ex_med  115675 non-null  float64\n",
      " 29  policy_code                 115675 non-null  float64\n",
      " 30  application_type            115675 non-null  object \n",
      " 31  acc_now_delinq              115675 non-null  float64\n",
      " 32  tot_coll_amt                115675 non-null  float64\n",
      " 33  tot_cur_bal                 115675 non-null  float64\n",
      " 34  open_acc_6m                 115675 non-null  float64\n",
      " 35  open_act_il                 115675 non-null  float64\n",
      " 36  open_il_12m                 115675 non-null  float64\n",
      " 37  open_il_24m                 115675 non-null  float64\n",
      " 38  mths_since_rcnt_il          112158 non-null  float64\n",
      " 39  total_bal_il                115675 non-null  float64\n",
      " 40  il_util                     98356 non-null   float64\n",
      " 41  open_rv_12m                 115675 non-null  float64\n",
      " 42  open_rv_24m                 115675 non-null  float64\n",
      " 43  max_bal_bc                  115675 non-null  float64\n",
      " 44  all_util                    115651 non-null  float64\n",
      " 45  total_rev_hi_lim            115675 non-null  float64\n",
      " 46  inq_fi                      115675 non-null  float64\n",
      " 47  total_cu_tl                 115675 non-null  float64\n",
      " 48  inq_last_12m                115675 non-null  float64\n",
      " 49  acc_open_past_24mths        115675 non-null  float64\n",
      " 50  avg_cur_bal                 115668 non-null  float64\n",
      " 51  bc_open_to_buy              114352 non-null  float64\n",
      " 52  bc_util                     114297 non-null  float64\n",
      " 53  chargeoff_within_12_mths    115675 non-null  float64\n",
      " 54  delinq_amnt                 115675 non-null  float64\n",
      " 55  mo_sin_old_il_acct          112158 non-null  float64\n",
      " 56  mo_sin_old_rev_tl_op        115675 non-null  float64\n",
      " 57  mo_sin_rcnt_rev_tl_op       115675 non-null  float64\n",
      " 58  mo_sin_rcnt_tl              115675 non-null  float64\n",
      " 59  mort_acc                    115675 non-null  float64\n",
      " 60  mths_since_recent_bc        114417 non-null  float64\n",
      " 61  mths_since_recent_inq       101318 non-null  float64\n",
      " 62  num_accts_ever_120_pd       115675 non-null  float64\n",
      " 63  num_actv_bc_tl              115675 non-null  float64\n",
      " 64  num_actv_rev_tl             115675 non-null  float64\n",
      " 65  num_bc_sats                 115675 non-null  float64\n",
      " 66  num_bc_tl                   115675 non-null  float64\n",
      " 67  num_il_tl                   115675 non-null  float64\n",
      " 68  num_op_rev_tl               115675 non-null  float64\n",
      " 69  num_rev_accts               115675 non-null  float64\n",
      " 70  num_rev_tl_bal_gt_0         115675 non-null  float64\n",
      " 71  num_sats                    115675 non-null  float64\n",
      " 72  num_tl_120dpd_2m            112529 non-null  float64\n",
      " 73  num_tl_30dpd                115675 non-null  float64\n",
      " 74  num_tl_90g_dpd_24m          115675 non-null  float64\n",
      " 75  num_tl_op_past_12m          115675 non-null  float64\n",
      " 76  pct_tl_nvr_dlq              115675 non-null  float64\n",
      " 77  percent_bc_gt_75            114346 non-null  float64\n",
      " 78  pub_rec_bankruptcies        115675 non-null  float64\n",
      " 79  tax_liens                   115675 non-null  float64\n",
      " 80  tot_hi_cred_lim             115675 non-null  float64\n",
      " 81  total_bal_ex_mort           115675 non-null  float64\n",
      " 82  total_bc_limit              115675 non-null  float64\n",
      " 83  total_il_high_credit_limit  115675 non-null  float64\n",
      " 84  hardship_flag               115675 non-null  object \n",
      " 85  debt_settlement_flag        115675 non-null  object \n",
      "dtypes: float64(75), object(11)\n",
      "memory usage: 75.9+ MB\n"
     ]
    }
   ],
   "source": [
    "loans_df.info()"
   ]
  },
  {
   "cell_type": "code",
   "execution_count": 13,
   "metadata": {
    "tags": []
   },
   "outputs": [
    {
     "data": {
      "text/html": [
       "<div>\n",
       "<style scoped>\n",
       "    .dataframe tbody tr th:only-of-type {\n",
       "        vertical-align: middle;\n",
       "    }\n",
       "\n",
       "    .dataframe tbody tr th {\n",
       "        vertical-align: top;\n",
       "    }\n",
       "\n",
       "    .dataframe thead th {\n",
       "        text-align: right;\n",
       "    }\n",
       "</style>\n",
       "<table border=\"1\" class=\"dataframe\">\n",
       "  <thead>\n",
       "    <tr style=\"text-align: right;\">\n",
       "      <th></th>\n",
       "      <th>loan_amnt</th>\n",
       "      <th>int_rate</th>\n",
       "      <th>installment</th>\n",
       "      <th>home_ownership</th>\n",
       "      <th>annual_inc</th>\n",
       "      <th>verification_status</th>\n",
       "      <th>issue_d</th>\n",
       "      <th>loan_status</th>\n",
       "      <th>pymnt_plan</th>\n",
       "      <th>dti</th>\n",
       "      <th>...</th>\n",
       "      <th>pct_tl_nvr_dlq</th>\n",
       "      <th>percent_bc_gt_75</th>\n",
       "      <th>pub_rec_bankruptcies</th>\n",
       "      <th>tax_liens</th>\n",
       "      <th>tot_hi_cred_lim</th>\n",
       "      <th>total_bal_ex_mort</th>\n",
       "      <th>total_bc_limit</th>\n",
       "      <th>total_il_high_credit_limit</th>\n",
       "      <th>hardship_flag</th>\n",
       "      <th>debt_settlement_flag</th>\n",
       "    </tr>\n",
       "  </thead>\n",
       "  <tbody>\n",
       "    <tr>\n",
       "      <th>0</th>\n",
       "      <td>20000.0</td>\n",
       "      <td>17.19%</td>\n",
       "      <td>499.10</td>\n",
       "      <td>RENT</td>\n",
       "      <td>47000.0</td>\n",
       "      <td>Source Verified</td>\n",
       "      <td>Mar-2019</td>\n",
       "      <td>Issued</td>\n",
       "      <td>n</td>\n",
       "      <td>14.02</td>\n",
       "      <td>...</td>\n",
       "      <td>98.0</td>\n",
       "      <td>12.5</td>\n",
       "      <td>0.0</td>\n",
       "      <td>0.0</td>\n",
       "      <td>75824.0</td>\n",
       "      <td>31546.0</td>\n",
       "      <td>33800.0</td>\n",
       "      <td>21524.0</td>\n",
       "      <td>N</td>\n",
       "      <td>N</td>\n",
       "    </tr>\n",
       "    <tr>\n",
       "      <th>1</th>\n",
       "      <td>21225.0</td>\n",
       "      <td>14.74%</td>\n",
       "      <td>502.05</td>\n",
       "      <td>MORTGAGE</td>\n",
       "      <td>225000.0</td>\n",
       "      <td>Not Verified</td>\n",
       "      <td>Mar-2019</td>\n",
       "      <td>Issued</td>\n",
       "      <td>n</td>\n",
       "      <td>16.80</td>\n",
       "      <td>...</td>\n",
       "      <td>100.0</td>\n",
       "      <td>50.0</td>\n",
       "      <td>1.0</td>\n",
       "      <td>0.0</td>\n",
       "      <td>747075.0</td>\n",
       "      <td>209426.0</td>\n",
       "      <td>53500.0</td>\n",
       "      <td>128175.0</td>\n",
       "      <td>N</td>\n",
       "      <td>N</td>\n",
       "    </tr>\n",
       "    <tr>\n",
       "      <th>3</th>\n",
       "      <td>20000.0</td>\n",
       "      <td>8.19%</td>\n",
       "      <td>628.49</td>\n",
       "      <td>MORTGAGE</td>\n",
       "      <td>200000.0</td>\n",
       "      <td>Not Verified</td>\n",
       "      <td>Mar-2019</td>\n",
       "      <td>Issued</td>\n",
       "      <td>n</td>\n",
       "      <td>22.66</td>\n",
       "      <td>...</td>\n",
       "      <td>95.7</td>\n",
       "      <td>22.2</td>\n",
       "      <td>0.0</td>\n",
       "      <td>0.0</td>\n",
       "      <td>448069.0</td>\n",
       "      <td>84744.0</td>\n",
       "      <td>49400.0</td>\n",
       "      <td>105180.0</td>\n",
       "      <td>N</td>\n",
       "      <td>N</td>\n",
       "    </tr>\n",
       "    <tr>\n",
       "      <th>4</th>\n",
       "      <td>12000.0</td>\n",
       "      <td>15.57%</td>\n",
       "      <td>289.09</td>\n",
       "      <td>MORTGAGE</td>\n",
       "      <td>49000.0</td>\n",
       "      <td>Source Verified</td>\n",
       "      <td>Mar-2019</td>\n",
       "      <td>Issued</td>\n",
       "      <td>n</td>\n",
       "      <td>13.47</td>\n",
       "      <td>...</td>\n",
       "      <td>86.1</td>\n",
       "      <td>14.3</td>\n",
       "      <td>0.0</td>\n",
       "      <td>0.0</td>\n",
       "      <td>189260.0</td>\n",
       "      <td>106025.0</td>\n",
       "      <td>24400.0</td>\n",
       "      <td>68860.0</td>\n",
       "      <td>N</td>\n",
       "      <td>N</td>\n",
       "    </tr>\n",
       "    <tr>\n",
       "      <th>6</th>\n",
       "      <td>25000.0</td>\n",
       "      <td>7.02%</td>\n",
       "      <td>772.16</td>\n",
       "      <td>MORTGAGE</td>\n",
       "      <td>305000.0</td>\n",
       "      <td>Not Verified</td>\n",
       "      <td>Mar-2019</td>\n",
       "      <td>Issued</td>\n",
       "      <td>n</td>\n",
       "      <td>8.16</td>\n",
       "      <td>...</td>\n",
       "      <td>100.0</td>\n",
       "      <td>0.0</td>\n",
       "      <td>0.0</td>\n",
       "      <td>0.0</td>\n",
       "      <td>840287.0</td>\n",
       "      <td>65339.0</td>\n",
       "      <td>81000.0</td>\n",
       "      <td>38858.0</td>\n",
       "      <td>N</td>\n",
       "      <td>N</td>\n",
       "    </tr>\n",
       "  </tbody>\n",
       "</table>\n",
       "<p>5 rows × 86 columns</p>\n",
       "</div>"
      ],
      "text/plain": [
       "   loan_amnt int_rate  installment home_ownership  annual_inc  \\\n",
       "0    20000.0   17.19%       499.10           RENT     47000.0   \n",
       "1    21225.0   14.74%       502.05       MORTGAGE    225000.0   \n",
       "3    20000.0    8.19%       628.49       MORTGAGE    200000.0   \n",
       "4    12000.0   15.57%       289.09       MORTGAGE     49000.0   \n",
       "6    25000.0    7.02%       772.16       MORTGAGE    305000.0   \n",
       "\n",
       "  verification_status   issue_d loan_status pymnt_plan    dti  ...  \\\n",
       "0     Source Verified  Mar-2019      Issued          n  14.02  ...   \n",
       "1        Not Verified  Mar-2019      Issued          n  16.80  ...   \n",
       "3        Not Verified  Mar-2019      Issued          n  22.66  ...   \n",
       "4     Source Verified  Mar-2019      Issued          n  13.47  ...   \n",
       "6        Not Verified  Mar-2019      Issued          n   8.16  ...   \n",
       "\n",
       "   pct_tl_nvr_dlq  percent_bc_gt_75  pub_rec_bankruptcies  tax_liens  \\\n",
       "0            98.0              12.5                   0.0        0.0   \n",
       "1           100.0              50.0                   1.0        0.0   \n",
       "3            95.7              22.2                   0.0        0.0   \n",
       "4            86.1              14.3                   0.0        0.0   \n",
       "6           100.0               0.0                   0.0        0.0   \n",
       "\n",
       "   tot_hi_cred_lim  total_bal_ex_mort total_bc_limit  \\\n",
       "0          75824.0            31546.0        33800.0   \n",
       "1         747075.0           209426.0        53500.0   \n",
       "3         448069.0            84744.0        49400.0   \n",
       "4         189260.0           106025.0        24400.0   \n",
       "6         840287.0            65339.0        81000.0   \n",
       "\n",
       "   total_il_high_credit_limit  hardship_flag  debt_settlement_flag  \n",
       "0                     21524.0              N                     N  \n",
       "1                    128175.0              N                     N  \n",
       "3                    105180.0              N                     N  \n",
       "4                     68860.0              N                     N  \n",
       "6                     38858.0              N                     N  \n",
       "\n",
       "[5 rows x 86 columns]"
      ]
     },
     "execution_count": 13,
     "metadata": {},
     "output_type": "execute_result"
    }
   ],
   "source": [
    "# Drop the null rows\n",
    "loans_df = loans_df.dropna()\n",
    "loans_df.head()"
   ]
  },
  {
   "cell_type": "code",
   "execution_count": 14,
   "metadata": {
    "collapsed": true,
    "jupyter": {
     "outputs_hidden": true
    },
    "tags": []
   },
   "outputs": [
    {
     "name": "stdout",
     "output_type": "stream",
     "text": [
      "<class 'pandas.core.frame.DataFrame'>\n",
      "Int64Index: 82537 entries, 0 to 115673\n",
      "Data columns (total 86 columns):\n",
      " #   Column                      Non-Null Count  Dtype  \n",
      "---  ------                      --------------  -----  \n",
      " 0   loan_amnt                   82537 non-null  float64\n",
      " 1   int_rate                    82537 non-null  object \n",
      " 2   installment                 82537 non-null  float64\n",
      " 3   home_ownership              82537 non-null  object \n",
      " 4   annual_inc                  82537 non-null  float64\n",
      " 5   verification_status         82537 non-null  object \n",
      " 6   issue_d                     82537 non-null  object \n",
      " 7   loan_status                 82537 non-null  object \n",
      " 8   pymnt_plan                  82537 non-null  object \n",
      " 9   dti                         82537 non-null  float64\n",
      " 10  delinq_2yrs                 82537 non-null  float64\n",
      " 11  inq_last_6mths              82537 non-null  float64\n",
      " 12  open_acc                    82537 non-null  float64\n",
      " 13  pub_rec                     82537 non-null  float64\n",
      " 14  revol_bal                   82537 non-null  float64\n",
      " 15  total_acc                   82537 non-null  float64\n",
      " 16  initial_list_status         82537 non-null  object \n",
      " 17  out_prncp                   82537 non-null  float64\n",
      " 18  out_prncp_inv               82537 non-null  float64\n",
      " 19  total_pymnt                 82537 non-null  float64\n",
      " 20  total_pymnt_inv             82537 non-null  float64\n",
      " 21  total_rec_prncp             82537 non-null  float64\n",
      " 22  total_rec_int               82537 non-null  float64\n",
      " 23  total_rec_late_fee          82537 non-null  float64\n",
      " 24  recoveries                  82537 non-null  float64\n",
      " 25  collection_recovery_fee     82537 non-null  float64\n",
      " 26  last_pymnt_amnt             82537 non-null  float64\n",
      " 27  next_pymnt_d                82537 non-null  object \n",
      " 28  collections_12_mths_ex_med  82537 non-null  float64\n",
      " 29  policy_code                 82537 non-null  float64\n",
      " 30  application_type            82537 non-null  object \n",
      " 31  acc_now_delinq              82537 non-null  float64\n",
      " 32  tot_coll_amt                82537 non-null  float64\n",
      " 33  tot_cur_bal                 82537 non-null  float64\n",
      " 34  open_acc_6m                 82537 non-null  float64\n",
      " 35  open_act_il                 82537 non-null  float64\n",
      " 36  open_il_12m                 82537 non-null  float64\n",
      " 37  open_il_24m                 82537 non-null  float64\n",
      " 38  mths_since_rcnt_il          82537 non-null  float64\n",
      " 39  total_bal_il                82537 non-null  float64\n",
      " 40  il_util                     82537 non-null  float64\n",
      " 41  open_rv_12m                 82537 non-null  float64\n",
      " 42  open_rv_24m                 82537 non-null  float64\n",
      " 43  max_bal_bc                  82537 non-null  float64\n",
      " 44  all_util                    82537 non-null  float64\n",
      " 45  total_rev_hi_lim            82537 non-null  float64\n",
      " 46  inq_fi                      82537 non-null  float64\n",
      " 47  total_cu_tl                 82537 non-null  float64\n",
      " 48  inq_last_12m                82537 non-null  float64\n",
      " 49  acc_open_past_24mths        82537 non-null  float64\n",
      " 50  avg_cur_bal                 82537 non-null  float64\n",
      " 51  bc_open_to_buy              82537 non-null  float64\n",
      " 52  bc_util                     82537 non-null  float64\n",
      " 53  chargeoff_within_12_mths    82537 non-null  float64\n",
      " 54  delinq_amnt                 82537 non-null  float64\n",
      " 55  mo_sin_old_il_acct          82537 non-null  float64\n",
      " 56  mo_sin_old_rev_tl_op        82537 non-null  float64\n",
      " 57  mo_sin_rcnt_rev_tl_op       82537 non-null  float64\n",
      " 58  mo_sin_rcnt_tl              82537 non-null  float64\n",
      " 59  mort_acc                    82537 non-null  float64\n",
      " 60  mths_since_recent_bc        82537 non-null  float64\n",
      " 61  mths_since_recent_inq       82537 non-null  float64\n",
      " 62  num_accts_ever_120_pd       82537 non-null  float64\n",
      " 63  num_actv_bc_tl              82537 non-null  float64\n",
      " 64  num_actv_rev_tl             82537 non-null  float64\n",
      " 65  num_bc_sats                 82537 non-null  float64\n",
      " 66  num_bc_tl                   82537 non-null  float64\n",
      " 67  num_il_tl                   82537 non-null  float64\n",
      " 68  num_op_rev_tl               82537 non-null  float64\n",
      " 69  num_rev_accts               82537 non-null  float64\n",
      " 70  num_rev_tl_bal_gt_0         82537 non-null  float64\n",
      " 71  num_sats                    82537 non-null  float64\n",
      " 72  num_tl_120dpd_2m            82537 non-null  float64\n",
      " 73  num_tl_30dpd                82537 non-null  float64\n",
      " 74  num_tl_90g_dpd_24m          82537 non-null  float64\n",
      " 75  num_tl_op_past_12m          82537 non-null  float64\n",
      " 76  pct_tl_nvr_dlq              82537 non-null  float64\n",
      " 77  percent_bc_gt_75            82537 non-null  float64\n",
      " 78  pub_rec_bankruptcies        82537 non-null  float64\n",
      " 79  tax_liens                   82537 non-null  float64\n",
      " 80  tot_hi_cred_lim             82537 non-null  float64\n",
      " 81  total_bal_ex_mort           82537 non-null  float64\n",
      " 82  total_bc_limit              82537 non-null  float64\n",
      " 83  total_il_high_credit_limit  82537 non-null  float64\n",
      " 84  hardship_flag               82537 non-null  object \n",
      " 85  debt_settlement_flag        82537 non-null  object \n",
      "dtypes: float64(75), object(11)\n",
      "memory usage: 54.8+ MB\n"
     ]
    }
   ],
   "source": [
    "loans_df.info()"
   ]
  },
  {
   "cell_type": "code",
   "execution_count": 15,
   "metadata": {},
   "outputs": [
    {
     "data": {
      "text/plain": [
       "Current               68470\n",
       "Issued                13720\n",
       "In Grace Period         171\n",
       "Late (16-30 days)        89\n",
       "Late (31-120 days)       87\n",
       "Name: loan_status, dtype: int64"
      ]
     },
     "execution_count": 15,
     "metadata": {},
     "output_type": "execute_result"
    }
   ],
   "source": [
    "loans_df['loan_status'].value_counts()"
   ]
  },
  {
   "cell_type": "code",
   "execution_count": 16,
   "metadata": {
    "tags": []
   },
   "outputs": [
    {
     "data": {
      "text/html": [
       "<div>\n",
       "<style scoped>\n",
       "    .dataframe tbody tr th:only-of-type {\n",
       "        vertical-align: middle;\n",
       "    }\n",
       "\n",
       "    .dataframe tbody tr th {\n",
       "        vertical-align: top;\n",
       "    }\n",
       "\n",
       "    .dataframe thead th {\n",
       "        text-align: right;\n",
       "    }\n",
       "</style>\n",
       "<table border=\"1\" class=\"dataframe\">\n",
       "  <thead>\n",
       "    <tr style=\"text-align: right;\">\n",
       "      <th></th>\n",
       "      <th>loan_amnt</th>\n",
       "      <th>int_rate</th>\n",
       "      <th>installment</th>\n",
       "      <th>home_ownership</th>\n",
       "      <th>annual_inc</th>\n",
       "      <th>verification_status</th>\n",
       "      <th>issue_d</th>\n",
       "      <th>loan_status</th>\n",
       "      <th>pymnt_plan</th>\n",
       "      <th>dti</th>\n",
       "      <th>...</th>\n",
       "      <th>pct_tl_nvr_dlq</th>\n",
       "      <th>percent_bc_gt_75</th>\n",
       "      <th>pub_rec_bankruptcies</th>\n",
       "      <th>tax_liens</th>\n",
       "      <th>tot_hi_cred_lim</th>\n",
       "      <th>total_bal_ex_mort</th>\n",
       "      <th>total_bc_limit</th>\n",
       "      <th>total_il_high_credit_limit</th>\n",
       "      <th>hardship_flag</th>\n",
       "      <th>debt_settlement_flag</th>\n",
       "    </tr>\n",
       "  </thead>\n",
       "  <tbody>\n",
       "    <tr>\n",
       "      <th>93</th>\n",
       "      <td>10500.0</td>\n",
       "      <td>17.19%</td>\n",
       "      <td>375.35</td>\n",
       "      <td>RENT</td>\n",
       "      <td>66000.0</td>\n",
       "      <td>Source Verified</td>\n",
       "      <td>Mar-2019</td>\n",
       "      <td>Current</td>\n",
       "      <td>n</td>\n",
       "      <td>27.24</td>\n",
       "      <td>...</td>\n",
       "      <td>85.7</td>\n",
       "      <td>100.0</td>\n",
       "      <td>0.0</td>\n",
       "      <td>0.0</td>\n",
       "      <td>65687.0</td>\n",
       "      <td>38199.0</td>\n",
       "      <td>2000.0</td>\n",
       "      <td>61987.0</td>\n",
       "      <td>N</td>\n",
       "      <td>N</td>\n",
       "    </tr>\n",
       "    <tr>\n",
       "      <th>99</th>\n",
       "      <td>25000.0</td>\n",
       "      <td>20.00%</td>\n",
       "      <td>929.09</td>\n",
       "      <td>MORTGAGE</td>\n",
       "      <td>105000.0</td>\n",
       "      <td>Verified</td>\n",
       "      <td>Mar-2019</td>\n",
       "      <td>Current</td>\n",
       "      <td>n</td>\n",
       "      <td>20.23</td>\n",
       "      <td>...</td>\n",
       "      <td>91.2</td>\n",
       "      <td>50.0</td>\n",
       "      <td>1.0</td>\n",
       "      <td>0.0</td>\n",
       "      <td>271427.0</td>\n",
       "      <td>60641.0</td>\n",
       "      <td>41200.0</td>\n",
       "      <td>49197.0</td>\n",
       "      <td>N</td>\n",
       "      <td>N</td>\n",
       "    </tr>\n",
       "    <tr>\n",
       "      <th>132</th>\n",
       "      <td>20000.0</td>\n",
       "      <td>20.00%</td>\n",
       "      <td>529.88</td>\n",
       "      <td>MORTGAGE</td>\n",
       "      <td>56000.0</td>\n",
       "      <td>Verified</td>\n",
       "      <td>Mar-2019</td>\n",
       "      <td>Current</td>\n",
       "      <td>n</td>\n",
       "      <td>24.26</td>\n",
       "      <td>...</td>\n",
       "      <td>66.7</td>\n",
       "      <td>50.0</td>\n",
       "      <td>0.0</td>\n",
       "      <td>0.0</td>\n",
       "      <td>60644.0</td>\n",
       "      <td>45684.0</td>\n",
       "      <td>7500.0</td>\n",
       "      <td>43144.0</td>\n",
       "      <td>N</td>\n",
       "      <td>N</td>\n",
       "    </tr>\n",
       "    <tr>\n",
       "      <th>133</th>\n",
       "      <td>10000.0</td>\n",
       "      <td>16.40%</td>\n",
       "      <td>353.55</td>\n",
       "      <td>RENT</td>\n",
       "      <td>92000.0</td>\n",
       "      <td>Verified</td>\n",
       "      <td>Mar-2019</td>\n",
       "      <td>Current</td>\n",
       "      <td>n</td>\n",
       "      <td>31.44</td>\n",
       "      <td>...</td>\n",
       "      <td>100.0</td>\n",
       "      <td>50.0</td>\n",
       "      <td>1.0</td>\n",
       "      <td>0.0</td>\n",
       "      <td>99506.0</td>\n",
       "      <td>68784.0</td>\n",
       "      <td>19700.0</td>\n",
       "      <td>76506.0</td>\n",
       "      <td>N</td>\n",
       "      <td>N</td>\n",
       "    </tr>\n",
       "    <tr>\n",
       "      <th>140</th>\n",
       "      <td>22000.0</td>\n",
       "      <td>14.74%</td>\n",
       "      <td>520.39</td>\n",
       "      <td>MORTGAGE</td>\n",
       "      <td>52000.0</td>\n",
       "      <td>Not Verified</td>\n",
       "      <td>Mar-2019</td>\n",
       "      <td>Current</td>\n",
       "      <td>n</td>\n",
       "      <td>18.76</td>\n",
       "      <td>...</td>\n",
       "      <td>100.0</td>\n",
       "      <td>0.0</td>\n",
       "      <td>0.0</td>\n",
       "      <td>0.0</td>\n",
       "      <td>219750.0</td>\n",
       "      <td>25919.0</td>\n",
       "      <td>27600.0</td>\n",
       "      <td>20000.0</td>\n",
       "      <td>N</td>\n",
       "      <td>N</td>\n",
       "    </tr>\n",
       "  </tbody>\n",
       "</table>\n",
       "<p>5 rows × 86 columns</p>\n",
       "</div>"
      ],
      "text/plain": [
       "     loan_amnt int_rate  installment home_ownership  annual_inc  \\\n",
       "93     10500.0   17.19%       375.35           RENT     66000.0   \n",
       "99     25000.0   20.00%       929.09       MORTGAGE    105000.0   \n",
       "132    20000.0   20.00%       529.88       MORTGAGE     56000.0   \n",
       "133    10000.0   16.40%       353.55           RENT     92000.0   \n",
       "140    22000.0   14.74%       520.39       MORTGAGE     52000.0   \n",
       "\n",
       "    verification_status   issue_d loan_status pymnt_plan    dti  ...  \\\n",
       "93      Source Verified  Mar-2019     Current          n  27.24  ...   \n",
       "99             Verified  Mar-2019     Current          n  20.23  ...   \n",
       "132            Verified  Mar-2019     Current          n  24.26  ...   \n",
       "133            Verified  Mar-2019     Current          n  31.44  ...   \n",
       "140        Not Verified  Mar-2019     Current          n  18.76  ...   \n",
       "\n",
       "     pct_tl_nvr_dlq  percent_bc_gt_75  pub_rec_bankruptcies  tax_liens  \\\n",
       "93             85.7             100.0                   0.0        0.0   \n",
       "99             91.2              50.0                   1.0        0.0   \n",
       "132            66.7              50.0                   0.0        0.0   \n",
       "133           100.0              50.0                   1.0        0.0   \n",
       "140           100.0               0.0                   0.0        0.0   \n",
       "\n",
       "     tot_hi_cred_lim  total_bal_ex_mort total_bc_limit  \\\n",
       "93           65687.0            38199.0         2000.0   \n",
       "99          271427.0            60641.0        41200.0   \n",
       "132          60644.0            45684.0         7500.0   \n",
       "133          99506.0            68784.0        19700.0   \n",
       "140         219750.0            25919.0        27600.0   \n",
       "\n",
       "     total_il_high_credit_limit  hardship_flag  debt_settlement_flag  \n",
       "93                      61987.0              N                     N  \n",
       "99                      49197.0              N                     N  \n",
       "132                     43144.0              N                     N  \n",
       "133                     76506.0              N                     N  \n",
       "140                     20000.0              N                     N  \n",
       "\n",
       "[5 rows x 86 columns]"
      ]
     },
     "execution_count": 16,
     "metadata": {},
     "output_type": "execute_result"
    }
   ],
   "source": [
    "# Remove the `Issued` loan status\n",
    "issued_mask = loans_df['loan_status'] != 'Issued'\n",
    "loans_df = loans_df.loc[issued_mask]\n",
    "loans_df.head()"
   ]
  },
  {
   "cell_type": "code",
   "execution_count": 17,
   "metadata": {
    "collapsed": true,
    "jupyter": {
     "outputs_hidden": true
    },
    "tags": []
   },
   "outputs": [
    {
     "name": "stdout",
     "output_type": "stream",
     "text": [
      "<class 'pandas.core.frame.DataFrame'>\n",
      "Int64Index: 68817 entries, 93 to 115673\n",
      "Data columns (total 86 columns):\n",
      " #   Column                      Non-Null Count  Dtype  \n",
      "---  ------                      --------------  -----  \n",
      " 0   loan_amnt                   68817 non-null  float64\n",
      " 1   int_rate                    68817 non-null  object \n",
      " 2   installment                 68817 non-null  float64\n",
      " 3   home_ownership              68817 non-null  object \n",
      " 4   annual_inc                  68817 non-null  float64\n",
      " 5   verification_status         68817 non-null  object \n",
      " 6   issue_d                     68817 non-null  object \n",
      " 7   loan_status                 68817 non-null  object \n",
      " 8   pymnt_plan                  68817 non-null  object \n",
      " 9   dti                         68817 non-null  float64\n",
      " 10  delinq_2yrs                 68817 non-null  float64\n",
      " 11  inq_last_6mths              68817 non-null  float64\n",
      " 12  open_acc                    68817 non-null  float64\n",
      " 13  pub_rec                     68817 non-null  float64\n",
      " 14  revol_bal                   68817 non-null  float64\n",
      " 15  total_acc                   68817 non-null  float64\n",
      " 16  initial_list_status         68817 non-null  object \n",
      " 17  out_prncp                   68817 non-null  float64\n",
      " 18  out_prncp_inv               68817 non-null  float64\n",
      " 19  total_pymnt                 68817 non-null  float64\n",
      " 20  total_pymnt_inv             68817 non-null  float64\n",
      " 21  total_rec_prncp             68817 non-null  float64\n",
      " 22  total_rec_int               68817 non-null  float64\n",
      " 23  total_rec_late_fee          68817 non-null  float64\n",
      " 24  recoveries                  68817 non-null  float64\n",
      " 25  collection_recovery_fee     68817 non-null  float64\n",
      " 26  last_pymnt_amnt             68817 non-null  float64\n",
      " 27  next_pymnt_d                68817 non-null  object \n",
      " 28  collections_12_mths_ex_med  68817 non-null  float64\n",
      " 29  policy_code                 68817 non-null  float64\n",
      " 30  application_type            68817 non-null  object \n",
      " 31  acc_now_delinq              68817 non-null  float64\n",
      " 32  tot_coll_amt                68817 non-null  float64\n",
      " 33  tot_cur_bal                 68817 non-null  float64\n",
      " 34  open_acc_6m                 68817 non-null  float64\n",
      " 35  open_act_il                 68817 non-null  float64\n",
      " 36  open_il_12m                 68817 non-null  float64\n",
      " 37  open_il_24m                 68817 non-null  float64\n",
      " 38  mths_since_rcnt_il          68817 non-null  float64\n",
      " 39  total_bal_il                68817 non-null  float64\n",
      " 40  il_util                     68817 non-null  float64\n",
      " 41  open_rv_12m                 68817 non-null  float64\n",
      " 42  open_rv_24m                 68817 non-null  float64\n",
      " 43  max_bal_bc                  68817 non-null  float64\n",
      " 44  all_util                    68817 non-null  float64\n",
      " 45  total_rev_hi_lim            68817 non-null  float64\n",
      " 46  inq_fi                      68817 non-null  float64\n",
      " 47  total_cu_tl                 68817 non-null  float64\n",
      " 48  inq_last_12m                68817 non-null  float64\n",
      " 49  acc_open_past_24mths        68817 non-null  float64\n",
      " 50  avg_cur_bal                 68817 non-null  float64\n",
      " 51  bc_open_to_buy              68817 non-null  float64\n",
      " 52  bc_util                     68817 non-null  float64\n",
      " 53  chargeoff_within_12_mths    68817 non-null  float64\n",
      " 54  delinq_amnt                 68817 non-null  float64\n",
      " 55  mo_sin_old_il_acct          68817 non-null  float64\n",
      " 56  mo_sin_old_rev_tl_op        68817 non-null  float64\n",
      " 57  mo_sin_rcnt_rev_tl_op       68817 non-null  float64\n",
      " 58  mo_sin_rcnt_tl              68817 non-null  float64\n",
      " 59  mort_acc                    68817 non-null  float64\n",
      " 60  mths_since_recent_bc        68817 non-null  float64\n",
      " 61  mths_since_recent_inq       68817 non-null  float64\n",
      " 62  num_accts_ever_120_pd       68817 non-null  float64\n",
      " 63  num_actv_bc_tl              68817 non-null  float64\n",
      " 64  num_actv_rev_tl             68817 non-null  float64\n",
      " 65  num_bc_sats                 68817 non-null  float64\n",
      " 66  num_bc_tl                   68817 non-null  float64\n",
      " 67  num_il_tl                   68817 non-null  float64\n",
      " 68  num_op_rev_tl               68817 non-null  float64\n",
      " 69  num_rev_accts               68817 non-null  float64\n",
      " 70  num_rev_tl_bal_gt_0         68817 non-null  float64\n",
      " 71  num_sats                    68817 non-null  float64\n",
      " 72  num_tl_120dpd_2m            68817 non-null  float64\n",
      " 73  num_tl_30dpd                68817 non-null  float64\n",
      " 74  num_tl_90g_dpd_24m          68817 non-null  float64\n",
      " 75  num_tl_op_past_12m          68817 non-null  float64\n",
      " 76  pct_tl_nvr_dlq              68817 non-null  float64\n",
      " 77  percent_bc_gt_75            68817 non-null  float64\n",
      " 78  pub_rec_bankruptcies        68817 non-null  float64\n",
      " 79  tax_liens                   68817 non-null  float64\n",
      " 80  tot_hi_cred_lim             68817 non-null  float64\n",
      " 81  total_bal_ex_mort           68817 non-null  float64\n",
      " 82  total_bc_limit              68817 non-null  float64\n",
      " 83  total_il_high_credit_limit  68817 non-null  float64\n",
      " 84  hardship_flag               68817 non-null  object \n",
      " 85  debt_settlement_flag        68817 non-null  object \n",
      "dtypes: float64(75), object(11)\n",
      "memory usage: 45.7+ MB\n"
     ]
    }
   ],
   "source": [
    "loans_df.info()"
   ]
  },
  {
   "cell_type": "code",
   "execution_count": 18,
   "metadata": {},
   "outputs": [
    {
     "data": {
      "text/plain": [
       "Current               68470\n",
       "In Grace Period         171\n",
       "Late (16-30 days)        89\n",
       "Late (31-120 days)       87\n",
       "Name: loan_status, dtype: int64"
      ]
     },
     "execution_count": 18,
     "metadata": {},
     "output_type": "execute_result"
    }
   ],
   "source": [
    "loans_df['loan_status'].value_counts()"
   ]
  },
  {
   "cell_type": "code",
   "execution_count": 19,
   "metadata": {},
   "outputs": [
    {
     "data": {
      "text/plain": [
       "low_risk              68470\n",
       "In Grace Period         171\n",
       "Late (16-30 days)        89\n",
       "Late (31-120 days)       87\n",
       "Name: loan_status, dtype: int64"
      ]
     },
     "execution_count": 19,
     "metadata": {},
     "output_type": "execute_result"
    }
   ],
   "source": [
    "# Convert the target column values to low_risk and high_risk based on their values\n",
    "# current = low risk\n",
    "x = {'Current': 'low_risk'}   \n",
    "loans_df = loans_df.replace(x)\n",
    "loans_df['loan_status'].value_counts()"
   ]
  },
  {
   "cell_type": "code",
   "execution_count": 20,
   "metadata": {},
   "outputs": [
    {
     "data": {
      "text/plain": [
       "low_risk     68470\n",
       "high_risk      347\n",
       "Name: loan_status, dtype: int64"
      ]
     },
     "execution_count": 20,
     "metadata": {},
     "output_type": "execute_result"
    }
   ],
   "source": [
    "# late, default, in grace period = high risk\n",
    "x = dict.fromkeys(['Late (31-120 days)', 'Late (16-30 days)', 'Default', 'In Grace Period'], 'high_risk')    \n",
    "loans_df = loans_df.replace(x)\n",
    "loans_df['loan_status'].value_counts()"
   ]
  },
  {
   "cell_type": "code",
   "execution_count": 21,
   "metadata": {
    "tags": []
   },
   "outputs": [
    {
     "data": {
      "text/html": [
       "<div>\n",
       "<style scoped>\n",
       "    .dataframe tbody tr th:only-of-type {\n",
       "        vertical-align: middle;\n",
       "    }\n",
       "\n",
       "    .dataframe tbody tr th {\n",
       "        vertical-align: top;\n",
       "    }\n",
       "\n",
       "    .dataframe thead th {\n",
       "        text-align: right;\n",
       "    }\n",
       "</style>\n",
       "<table border=\"1\" class=\"dataframe\">\n",
       "  <thead>\n",
       "    <tr style=\"text-align: right;\">\n",
       "      <th></th>\n",
       "      <th>loan_amnt</th>\n",
       "      <th>int_rate</th>\n",
       "      <th>installment</th>\n",
       "      <th>home_ownership</th>\n",
       "      <th>annual_inc</th>\n",
       "      <th>verification_status</th>\n",
       "      <th>issue_d</th>\n",
       "      <th>loan_status</th>\n",
       "      <th>pymnt_plan</th>\n",
       "      <th>dti</th>\n",
       "      <th>...</th>\n",
       "      <th>pct_tl_nvr_dlq</th>\n",
       "      <th>percent_bc_gt_75</th>\n",
       "      <th>pub_rec_bankruptcies</th>\n",
       "      <th>tax_liens</th>\n",
       "      <th>tot_hi_cred_lim</th>\n",
       "      <th>total_bal_ex_mort</th>\n",
       "      <th>total_bc_limit</th>\n",
       "      <th>total_il_high_credit_limit</th>\n",
       "      <th>hardship_flag</th>\n",
       "      <th>debt_settlement_flag</th>\n",
       "    </tr>\n",
       "  </thead>\n",
       "  <tbody>\n",
       "    <tr>\n",
       "      <th>93</th>\n",
       "      <td>10500.0</td>\n",
       "      <td>17.19%</td>\n",
       "      <td>375.35</td>\n",
       "      <td>RENT</td>\n",
       "      <td>66000.0</td>\n",
       "      <td>Source Verified</td>\n",
       "      <td>Mar-2019</td>\n",
       "      <td>low_risk</td>\n",
       "      <td>n</td>\n",
       "      <td>27.24</td>\n",
       "      <td>...</td>\n",
       "      <td>85.7</td>\n",
       "      <td>100.0</td>\n",
       "      <td>0.0</td>\n",
       "      <td>0.0</td>\n",
       "      <td>65687.0</td>\n",
       "      <td>38199.0</td>\n",
       "      <td>2000.0</td>\n",
       "      <td>61987.0</td>\n",
       "      <td>N</td>\n",
       "      <td>N</td>\n",
       "    </tr>\n",
       "    <tr>\n",
       "      <th>99</th>\n",
       "      <td>25000.0</td>\n",
       "      <td>20.00%</td>\n",
       "      <td>929.09</td>\n",
       "      <td>MORTGAGE</td>\n",
       "      <td>105000.0</td>\n",
       "      <td>Verified</td>\n",
       "      <td>Mar-2019</td>\n",
       "      <td>low_risk</td>\n",
       "      <td>n</td>\n",
       "      <td>20.23</td>\n",
       "      <td>...</td>\n",
       "      <td>91.2</td>\n",
       "      <td>50.0</td>\n",
       "      <td>1.0</td>\n",
       "      <td>0.0</td>\n",
       "      <td>271427.0</td>\n",
       "      <td>60641.0</td>\n",
       "      <td>41200.0</td>\n",
       "      <td>49197.0</td>\n",
       "      <td>N</td>\n",
       "      <td>N</td>\n",
       "    </tr>\n",
       "    <tr>\n",
       "      <th>132</th>\n",
       "      <td>20000.0</td>\n",
       "      <td>20.00%</td>\n",
       "      <td>529.88</td>\n",
       "      <td>MORTGAGE</td>\n",
       "      <td>56000.0</td>\n",
       "      <td>Verified</td>\n",
       "      <td>Mar-2019</td>\n",
       "      <td>low_risk</td>\n",
       "      <td>n</td>\n",
       "      <td>24.26</td>\n",
       "      <td>...</td>\n",
       "      <td>66.7</td>\n",
       "      <td>50.0</td>\n",
       "      <td>0.0</td>\n",
       "      <td>0.0</td>\n",
       "      <td>60644.0</td>\n",
       "      <td>45684.0</td>\n",
       "      <td>7500.0</td>\n",
       "      <td>43144.0</td>\n",
       "      <td>N</td>\n",
       "      <td>N</td>\n",
       "    </tr>\n",
       "    <tr>\n",
       "      <th>133</th>\n",
       "      <td>10000.0</td>\n",
       "      <td>16.40%</td>\n",
       "      <td>353.55</td>\n",
       "      <td>RENT</td>\n",
       "      <td>92000.0</td>\n",
       "      <td>Verified</td>\n",
       "      <td>Mar-2019</td>\n",
       "      <td>low_risk</td>\n",
       "      <td>n</td>\n",
       "      <td>31.44</td>\n",
       "      <td>...</td>\n",
       "      <td>100.0</td>\n",
       "      <td>50.0</td>\n",
       "      <td>1.0</td>\n",
       "      <td>0.0</td>\n",
       "      <td>99506.0</td>\n",
       "      <td>68784.0</td>\n",
       "      <td>19700.0</td>\n",
       "      <td>76506.0</td>\n",
       "      <td>N</td>\n",
       "      <td>N</td>\n",
       "    </tr>\n",
       "    <tr>\n",
       "      <th>140</th>\n",
       "      <td>22000.0</td>\n",
       "      <td>14.74%</td>\n",
       "      <td>520.39</td>\n",
       "      <td>MORTGAGE</td>\n",
       "      <td>52000.0</td>\n",
       "      <td>Not Verified</td>\n",
       "      <td>Mar-2019</td>\n",
       "      <td>low_risk</td>\n",
       "      <td>n</td>\n",
       "      <td>18.76</td>\n",
       "      <td>...</td>\n",
       "      <td>100.0</td>\n",
       "      <td>0.0</td>\n",
       "      <td>0.0</td>\n",
       "      <td>0.0</td>\n",
       "      <td>219750.0</td>\n",
       "      <td>25919.0</td>\n",
       "      <td>27600.0</td>\n",
       "      <td>20000.0</td>\n",
       "      <td>N</td>\n",
       "      <td>N</td>\n",
       "    </tr>\n",
       "  </tbody>\n",
       "</table>\n",
       "<p>5 rows × 86 columns</p>\n",
       "</div>"
      ],
      "text/plain": [
       "     loan_amnt int_rate  installment home_ownership  annual_inc  \\\n",
       "93     10500.0   17.19%       375.35           RENT     66000.0   \n",
       "99     25000.0   20.00%       929.09       MORTGAGE    105000.0   \n",
       "132    20000.0   20.00%       529.88       MORTGAGE     56000.0   \n",
       "133    10000.0   16.40%       353.55           RENT     92000.0   \n",
       "140    22000.0   14.74%       520.39       MORTGAGE     52000.0   \n",
       "\n",
       "    verification_status   issue_d loan_status pymnt_plan    dti  ...  \\\n",
       "93      Source Verified  Mar-2019    low_risk          n  27.24  ...   \n",
       "99             Verified  Mar-2019    low_risk          n  20.23  ...   \n",
       "132            Verified  Mar-2019    low_risk          n  24.26  ...   \n",
       "133            Verified  Mar-2019    low_risk          n  31.44  ...   \n",
       "140        Not Verified  Mar-2019    low_risk          n  18.76  ...   \n",
       "\n",
       "     pct_tl_nvr_dlq  percent_bc_gt_75  pub_rec_bankruptcies  tax_liens  \\\n",
       "93             85.7             100.0                   0.0        0.0   \n",
       "99             91.2              50.0                   1.0        0.0   \n",
       "132            66.7              50.0                   0.0        0.0   \n",
       "133           100.0              50.0                   1.0        0.0   \n",
       "140           100.0               0.0                   0.0        0.0   \n",
       "\n",
       "     tot_hi_cred_lim  total_bal_ex_mort total_bc_limit  \\\n",
       "93           65687.0            38199.0         2000.0   \n",
       "99          271427.0            60641.0        41200.0   \n",
       "132          60644.0            45684.0         7500.0   \n",
       "133          99506.0            68784.0        19700.0   \n",
       "140         219750.0            25919.0        27600.0   \n",
       "\n",
       "     total_il_high_credit_limit  hardship_flag  debt_settlement_flag  \n",
       "93                      61987.0              N                     N  \n",
       "99                      49197.0              N                     N  \n",
       "132                     43144.0              N                     N  \n",
       "133                     76506.0              N                     N  \n",
       "140                     20000.0              N                     N  \n",
       "\n",
       "[5 rows x 86 columns]"
      ]
     },
     "execution_count": 21,
     "metadata": {},
     "output_type": "execute_result"
    }
   ],
   "source": [
    "# look at df\n",
    "loans_df.head()"
   ]
  },
  {
   "cell_type": "code",
   "execution_count": 22,
   "metadata": {},
   "outputs": [
    {
     "data": {
      "text/html": [
       "<div>\n",
       "<style scoped>\n",
       "    .dataframe tbody tr th:only-of-type {\n",
       "        vertical-align: middle;\n",
       "    }\n",
       "\n",
       "    .dataframe tbody tr th {\n",
       "        vertical-align: top;\n",
       "    }\n",
       "\n",
       "    .dataframe thead th {\n",
       "        text-align: right;\n",
       "    }\n",
       "</style>\n",
       "<table border=\"1\" class=\"dataframe\">\n",
       "  <thead>\n",
       "    <tr style=\"text-align: right;\">\n",
       "      <th></th>\n",
       "      <th>loan_amnt</th>\n",
       "      <th>int_rate</th>\n",
       "      <th>installment</th>\n",
       "      <th>home_ownership</th>\n",
       "      <th>annual_inc</th>\n",
       "      <th>verification_status</th>\n",
       "      <th>issue_d</th>\n",
       "      <th>loan_status</th>\n",
       "      <th>pymnt_plan</th>\n",
       "      <th>dti</th>\n",
       "      <th>...</th>\n",
       "      <th>pct_tl_nvr_dlq</th>\n",
       "      <th>percent_bc_gt_75</th>\n",
       "      <th>pub_rec_bankruptcies</th>\n",
       "      <th>tax_liens</th>\n",
       "      <th>tot_hi_cred_lim</th>\n",
       "      <th>total_bal_ex_mort</th>\n",
       "      <th>total_bc_limit</th>\n",
       "      <th>total_il_high_credit_limit</th>\n",
       "      <th>hardship_flag</th>\n",
       "      <th>debt_settlement_flag</th>\n",
       "    </tr>\n",
       "  </thead>\n",
       "  <tbody>\n",
       "    <tr>\n",
       "      <th>93</th>\n",
       "      <td>10500.0</td>\n",
       "      <td>0.1719</td>\n",
       "      <td>375.35</td>\n",
       "      <td>RENT</td>\n",
       "      <td>66000.0</td>\n",
       "      <td>Source Verified</td>\n",
       "      <td>Mar-2019</td>\n",
       "      <td>low_risk</td>\n",
       "      <td>n</td>\n",
       "      <td>27.24</td>\n",
       "      <td>...</td>\n",
       "      <td>85.7</td>\n",
       "      <td>100.0</td>\n",
       "      <td>0.0</td>\n",
       "      <td>0.0</td>\n",
       "      <td>65687.0</td>\n",
       "      <td>38199.0</td>\n",
       "      <td>2000.0</td>\n",
       "      <td>61987.0</td>\n",
       "      <td>N</td>\n",
       "      <td>N</td>\n",
       "    </tr>\n",
       "    <tr>\n",
       "      <th>99</th>\n",
       "      <td>25000.0</td>\n",
       "      <td>0.2000</td>\n",
       "      <td>929.09</td>\n",
       "      <td>MORTGAGE</td>\n",
       "      <td>105000.0</td>\n",
       "      <td>Verified</td>\n",
       "      <td>Mar-2019</td>\n",
       "      <td>low_risk</td>\n",
       "      <td>n</td>\n",
       "      <td>20.23</td>\n",
       "      <td>...</td>\n",
       "      <td>91.2</td>\n",
       "      <td>50.0</td>\n",
       "      <td>1.0</td>\n",
       "      <td>0.0</td>\n",
       "      <td>271427.0</td>\n",
       "      <td>60641.0</td>\n",
       "      <td>41200.0</td>\n",
       "      <td>49197.0</td>\n",
       "      <td>N</td>\n",
       "      <td>N</td>\n",
       "    </tr>\n",
       "    <tr>\n",
       "      <th>132</th>\n",
       "      <td>20000.0</td>\n",
       "      <td>0.2000</td>\n",
       "      <td>529.88</td>\n",
       "      <td>MORTGAGE</td>\n",
       "      <td>56000.0</td>\n",
       "      <td>Verified</td>\n",
       "      <td>Mar-2019</td>\n",
       "      <td>low_risk</td>\n",
       "      <td>n</td>\n",
       "      <td>24.26</td>\n",
       "      <td>...</td>\n",
       "      <td>66.7</td>\n",
       "      <td>50.0</td>\n",
       "      <td>0.0</td>\n",
       "      <td>0.0</td>\n",
       "      <td>60644.0</td>\n",
       "      <td>45684.0</td>\n",
       "      <td>7500.0</td>\n",
       "      <td>43144.0</td>\n",
       "      <td>N</td>\n",
       "      <td>N</td>\n",
       "    </tr>\n",
       "    <tr>\n",
       "      <th>133</th>\n",
       "      <td>10000.0</td>\n",
       "      <td>0.1640</td>\n",
       "      <td>353.55</td>\n",
       "      <td>RENT</td>\n",
       "      <td>92000.0</td>\n",
       "      <td>Verified</td>\n",
       "      <td>Mar-2019</td>\n",
       "      <td>low_risk</td>\n",
       "      <td>n</td>\n",
       "      <td>31.44</td>\n",
       "      <td>...</td>\n",
       "      <td>100.0</td>\n",
       "      <td>50.0</td>\n",
       "      <td>1.0</td>\n",
       "      <td>0.0</td>\n",
       "      <td>99506.0</td>\n",
       "      <td>68784.0</td>\n",
       "      <td>19700.0</td>\n",
       "      <td>76506.0</td>\n",
       "      <td>N</td>\n",
       "      <td>N</td>\n",
       "    </tr>\n",
       "    <tr>\n",
       "      <th>140</th>\n",
       "      <td>22000.0</td>\n",
       "      <td>0.1474</td>\n",
       "      <td>520.39</td>\n",
       "      <td>MORTGAGE</td>\n",
       "      <td>52000.0</td>\n",
       "      <td>Not Verified</td>\n",
       "      <td>Mar-2019</td>\n",
       "      <td>low_risk</td>\n",
       "      <td>n</td>\n",
       "      <td>18.76</td>\n",
       "      <td>...</td>\n",
       "      <td>100.0</td>\n",
       "      <td>0.0</td>\n",
       "      <td>0.0</td>\n",
       "      <td>0.0</td>\n",
       "      <td>219750.0</td>\n",
       "      <td>25919.0</td>\n",
       "      <td>27600.0</td>\n",
       "      <td>20000.0</td>\n",
       "      <td>N</td>\n",
       "      <td>N</td>\n",
       "    </tr>\n",
       "  </tbody>\n",
       "</table>\n",
       "<p>5 rows × 86 columns</p>\n",
       "</div>"
      ],
      "text/plain": [
       "     loan_amnt  int_rate  installment home_ownership  annual_inc  \\\n",
       "93     10500.0    0.1719       375.35           RENT     66000.0   \n",
       "99     25000.0    0.2000       929.09       MORTGAGE    105000.0   \n",
       "132    20000.0    0.2000       529.88       MORTGAGE     56000.0   \n",
       "133    10000.0    0.1640       353.55           RENT     92000.0   \n",
       "140    22000.0    0.1474       520.39       MORTGAGE     52000.0   \n",
       "\n",
       "    verification_status   issue_d loan_status pymnt_plan    dti  ...  \\\n",
       "93      Source Verified  Mar-2019    low_risk          n  27.24  ...   \n",
       "99             Verified  Mar-2019    low_risk          n  20.23  ...   \n",
       "132            Verified  Mar-2019    low_risk          n  24.26  ...   \n",
       "133            Verified  Mar-2019    low_risk          n  31.44  ...   \n",
       "140        Not Verified  Mar-2019    low_risk          n  18.76  ...   \n",
       "\n",
       "     pct_tl_nvr_dlq  percent_bc_gt_75  pub_rec_bankruptcies  tax_liens  \\\n",
       "93             85.7             100.0                   0.0        0.0   \n",
       "99             91.2              50.0                   1.0        0.0   \n",
       "132            66.7              50.0                   0.0        0.0   \n",
       "133           100.0              50.0                   1.0        0.0   \n",
       "140           100.0               0.0                   0.0        0.0   \n",
       "\n",
       "     tot_hi_cred_lim  total_bal_ex_mort total_bc_limit  \\\n",
       "93           65687.0            38199.0         2000.0   \n",
       "99          271427.0            60641.0        41200.0   \n",
       "132          60644.0            45684.0         7500.0   \n",
       "133          99506.0            68784.0        19700.0   \n",
       "140         219750.0            25919.0        27600.0   \n",
       "\n",
       "     total_il_high_credit_limit  hardship_flag  debt_settlement_flag  \n",
       "93                      61987.0              N                     N  \n",
       "99                      49197.0              N                     N  \n",
       "132                     43144.0              N                     N  \n",
       "133                     76506.0              N                     N  \n",
       "140                     20000.0              N                     N  \n",
       "\n",
       "[5 rows x 86 columns]"
      ]
     },
     "execution_count": 22,
     "metadata": {},
     "output_type": "execute_result"
    }
   ],
   "source": [
    "# convert interest rate to numerical\n",
    "loans_df['int_rate'] = loans_df['int_rate'].str.replace('%', '')\n",
    "loans_df['int_rate'] = loans_df['int_rate'].astype('float') / 100\n",
    "loans_df.head()"
   ]
  },
  {
   "cell_type": "code",
   "execution_count": 23,
   "metadata": {
    "collapsed": true,
    "jupyter": {
     "outputs_hidden": true
    },
    "tags": []
   },
   "outputs": [
    {
     "name": "stdout",
     "output_type": "stream",
     "text": [
      "<class 'pandas.core.frame.DataFrame'>\n",
      "Int64Index: 68817 entries, 93 to 115673\n",
      "Data columns (total 86 columns):\n",
      " #   Column                      Non-Null Count  Dtype  \n",
      "---  ------                      --------------  -----  \n",
      " 0   loan_amnt                   68817 non-null  float64\n",
      " 1   int_rate                    68817 non-null  float64\n",
      " 2   installment                 68817 non-null  float64\n",
      " 3   home_ownership              68817 non-null  object \n",
      " 4   annual_inc                  68817 non-null  float64\n",
      " 5   verification_status         68817 non-null  object \n",
      " 6   issue_d                     68817 non-null  object \n",
      " 7   loan_status                 68817 non-null  object \n",
      " 8   pymnt_plan                  68817 non-null  object \n",
      " 9   dti                         68817 non-null  float64\n",
      " 10  delinq_2yrs                 68817 non-null  float64\n",
      " 11  inq_last_6mths              68817 non-null  float64\n",
      " 12  open_acc                    68817 non-null  float64\n",
      " 13  pub_rec                     68817 non-null  float64\n",
      " 14  revol_bal                   68817 non-null  float64\n",
      " 15  total_acc                   68817 non-null  float64\n",
      " 16  initial_list_status         68817 non-null  object \n",
      " 17  out_prncp                   68817 non-null  float64\n",
      " 18  out_prncp_inv               68817 non-null  float64\n",
      " 19  total_pymnt                 68817 non-null  float64\n",
      " 20  total_pymnt_inv             68817 non-null  float64\n",
      " 21  total_rec_prncp             68817 non-null  float64\n",
      " 22  total_rec_int               68817 non-null  float64\n",
      " 23  total_rec_late_fee          68817 non-null  float64\n",
      " 24  recoveries                  68817 non-null  float64\n",
      " 25  collection_recovery_fee     68817 non-null  float64\n",
      " 26  last_pymnt_amnt             68817 non-null  float64\n",
      " 27  next_pymnt_d                68817 non-null  object \n",
      " 28  collections_12_mths_ex_med  68817 non-null  float64\n",
      " 29  policy_code                 68817 non-null  float64\n",
      " 30  application_type            68817 non-null  object \n",
      " 31  acc_now_delinq              68817 non-null  float64\n",
      " 32  tot_coll_amt                68817 non-null  float64\n",
      " 33  tot_cur_bal                 68817 non-null  float64\n",
      " 34  open_acc_6m                 68817 non-null  float64\n",
      " 35  open_act_il                 68817 non-null  float64\n",
      " 36  open_il_12m                 68817 non-null  float64\n",
      " 37  open_il_24m                 68817 non-null  float64\n",
      " 38  mths_since_rcnt_il          68817 non-null  float64\n",
      " 39  total_bal_il                68817 non-null  float64\n",
      " 40  il_util                     68817 non-null  float64\n",
      " 41  open_rv_12m                 68817 non-null  float64\n",
      " 42  open_rv_24m                 68817 non-null  float64\n",
      " 43  max_bal_bc                  68817 non-null  float64\n",
      " 44  all_util                    68817 non-null  float64\n",
      " 45  total_rev_hi_lim            68817 non-null  float64\n",
      " 46  inq_fi                      68817 non-null  float64\n",
      " 47  total_cu_tl                 68817 non-null  float64\n",
      " 48  inq_last_12m                68817 non-null  float64\n",
      " 49  acc_open_past_24mths        68817 non-null  float64\n",
      " 50  avg_cur_bal                 68817 non-null  float64\n",
      " 51  bc_open_to_buy              68817 non-null  float64\n",
      " 52  bc_util                     68817 non-null  float64\n",
      " 53  chargeoff_within_12_mths    68817 non-null  float64\n",
      " 54  delinq_amnt                 68817 non-null  float64\n",
      " 55  mo_sin_old_il_acct          68817 non-null  float64\n",
      " 56  mo_sin_old_rev_tl_op        68817 non-null  float64\n",
      " 57  mo_sin_rcnt_rev_tl_op       68817 non-null  float64\n",
      " 58  mo_sin_rcnt_tl              68817 non-null  float64\n",
      " 59  mort_acc                    68817 non-null  float64\n",
      " 60  mths_since_recent_bc        68817 non-null  float64\n",
      " 61  mths_since_recent_inq       68817 non-null  float64\n",
      " 62  num_accts_ever_120_pd       68817 non-null  float64\n",
      " 63  num_actv_bc_tl              68817 non-null  float64\n",
      " 64  num_actv_rev_tl             68817 non-null  float64\n",
      " 65  num_bc_sats                 68817 non-null  float64\n",
      " 66  num_bc_tl                   68817 non-null  float64\n",
      " 67  num_il_tl                   68817 non-null  float64\n",
      " 68  num_op_rev_tl               68817 non-null  float64\n",
      " 69  num_rev_accts               68817 non-null  float64\n",
      " 70  num_rev_tl_bal_gt_0         68817 non-null  float64\n",
      " 71  num_sats                    68817 non-null  float64\n",
      " 72  num_tl_120dpd_2m            68817 non-null  float64\n",
      " 73  num_tl_30dpd                68817 non-null  float64\n",
      " 74  num_tl_90g_dpd_24m          68817 non-null  float64\n",
      " 75  num_tl_op_past_12m          68817 non-null  float64\n",
      " 76  pct_tl_nvr_dlq              68817 non-null  float64\n",
      " 77  percent_bc_gt_75            68817 non-null  float64\n",
      " 78  pub_rec_bankruptcies        68817 non-null  float64\n",
      " 79  tax_liens                   68817 non-null  float64\n",
      " 80  tot_hi_cred_lim             68817 non-null  float64\n",
      " 81  total_bal_ex_mort           68817 non-null  float64\n",
      " 82  total_bc_limit              68817 non-null  float64\n",
      " 83  total_il_high_credit_limit  68817 non-null  float64\n",
      " 84  hardship_flag               68817 non-null  object \n",
      " 85  debt_settlement_flag        68817 non-null  object \n",
      "dtypes: float64(76), object(10)\n",
      "memory usage: 45.7+ MB\n"
     ]
    }
   ],
   "source": [
    "loans_df.info()"
   ]
  },
  {
   "cell_type": "code",
   "execution_count": 24,
   "metadata": {},
   "outputs": [
    {
     "data": {
      "text/plain": [
       "(68817, 86)"
      ]
     },
     "execution_count": 24,
     "metadata": {},
     "output_type": "execute_result"
    }
   ],
   "source": [
    "loans_df.shape"
   ]
  },
  {
   "cell_type": "code",
   "execution_count": 25,
   "metadata": {},
   "outputs": [
    {
     "data": {
      "text/plain": [
       "Index(['home_ownership', 'verification_status', 'issue_d', 'loan_status',\n",
       "       'pymnt_plan', 'initial_list_status', 'next_pymnt_d', 'application_type',\n",
       "       'hardship_flag', 'debt_settlement_flag'],\n",
       "      dtype='object')"
      ]
     },
     "execution_count": 25,
     "metadata": {},
     "output_type": "execute_result"
    }
   ],
   "source": [
    "# determine columns that are currently categorical instead of numerical\n",
    "columns_obj = loans_df.select_dtypes(include='object').columns\n",
    "columns_obj"
   ]
  },
  {
   "cell_type": "code",
   "execution_count": 26,
   "metadata": {},
   "outputs": [
    {
     "name": "stdout",
     "output_type": "stream",
     "text": [
      "10\n"
     ]
    }
   ],
   "source": [
    "print(len(columns_obj))"
   ]
  },
  {
   "cell_type": "code",
   "execution_count": 27,
   "metadata": {
    "tags": []
   },
   "outputs": [
    {
     "data": {
      "text/plain": [
       "MORTGAGE    36219\n",
       "RENT        24613\n",
       "OWN          7346\n",
       "ANY           639\n",
       "Name: home_ownership, dtype: int64"
      ]
     },
     "execution_count": 27,
     "metadata": {},
     "output_type": "execute_result"
    }
   ],
   "source": [
    "# examine home_ownership\n",
    "loans_df['home_ownership'].value_counts()"
   ]
  },
  {
   "cell_type": "code",
   "execution_count": 28,
   "metadata": {
    "collapsed": true,
    "jupyter": {
     "outputs_hidden": true
    },
    "tags": []
   },
   "outputs": [
    {
     "name": "stdout",
     "output_type": "stream",
     "text": [
      "home_ownership \n",
      " MORTGAGE    36219\n",
      "RENT        24613\n",
      "OWN          7346\n",
      "ANY           639\n",
      "Name: home_ownership, dtype: int64\n",
      "------------------\n",
      "verification_status \n",
      " Not Verified       32895\n",
      "Source Verified    25737\n",
      "Verified           10185\n",
      "Name: verification_status, dtype: int64\n",
      "------------------\n",
      "issue_d \n",
      " Jan-2019    31041\n",
      "Feb-2019    25579\n",
      "Mar-2019    12197\n",
      "Name: issue_d, dtype: int64\n",
      "------------------\n",
      "loan_status \n",
      " low_risk     68470\n",
      "high_risk      347\n",
      "Name: loan_status, dtype: int64\n",
      "------------------\n",
      "pymnt_plan \n",
      " n    68817\n",
      "Name: pymnt_plan, dtype: int64\n",
      "------------------\n",
      "initial_list_status \n",
      " w    60292\n",
      "f     8525\n",
      "Name: initial_list_status, dtype: int64\n",
      "------------------\n",
      "next_pymnt_d \n",
      " May-2019    42449\n",
      "Apr-2019    26368\n",
      "Name: next_pymnt_d, dtype: int64\n",
      "------------------\n",
      "application_type \n",
      " Individual    59206\n",
      "Joint App      9611\n",
      "Name: application_type, dtype: int64\n",
      "------------------\n",
      "hardship_flag \n",
      " N    68817\n",
      "Name: hardship_flag, dtype: int64\n",
      "------------------\n",
      "debt_settlement_flag \n",
      " N    68817\n",
      "Name: debt_settlement_flag, dtype: int64\n",
      "------------------\n"
     ]
    }
   ],
   "source": [
    "# examine all the columns\n",
    "for column in loans_df[columns_obj]:\n",
    "    print(column, \"\\n\", loans_df[column].value_counts())\n",
    "    print(\"------------------\")"
   ]
  },
  {
   "cell_type": "code",
   "execution_count": 29,
   "metadata": {},
   "outputs": [
    {
     "data": {
      "text/plain": [
       "(68817, 83)"
      ]
     },
     "execution_count": 29,
     "metadata": {},
     "output_type": "execute_result"
    }
   ],
   "source": [
    "# drop columns that only include 1 value in value_counts()\n",
    "loans_df = loans_df.drop(columns=['debt_settlement_flag', 'hardship_flag', 'pymnt_plan'])\n",
    "loans_df.shape"
   ]
  },
  {
   "cell_type": "code",
   "execution_count": 30,
   "metadata": {
    "tags": []
   },
   "outputs": [
    {
     "data": {
      "text/html": [
       "<div>\n",
       "<style scoped>\n",
       "    .dataframe tbody tr th:only-of-type {\n",
       "        vertical-align: middle;\n",
       "    }\n",
       "\n",
       "    .dataframe tbody tr th {\n",
       "        vertical-align: top;\n",
       "    }\n",
       "\n",
       "    .dataframe thead th {\n",
       "        text-align: right;\n",
       "    }\n",
       "</style>\n",
       "<table border=\"1\" class=\"dataframe\">\n",
       "  <thead>\n",
       "    <tr style=\"text-align: right;\">\n",
       "      <th></th>\n",
       "      <th>loan_amnt</th>\n",
       "      <th>int_rate</th>\n",
       "      <th>installment</th>\n",
       "      <th>home_ownership</th>\n",
       "      <th>annual_inc</th>\n",
       "      <th>verification_status</th>\n",
       "      <th>issue_d</th>\n",
       "      <th>loan_status</th>\n",
       "      <th>dti</th>\n",
       "      <th>delinq_2yrs</th>\n",
       "      <th>...</th>\n",
       "      <th>num_tl_90g_dpd_24m</th>\n",
       "      <th>num_tl_op_past_12m</th>\n",
       "      <th>pct_tl_nvr_dlq</th>\n",
       "      <th>percent_bc_gt_75</th>\n",
       "      <th>pub_rec_bankruptcies</th>\n",
       "      <th>tax_liens</th>\n",
       "      <th>tot_hi_cred_lim</th>\n",
       "      <th>total_bal_ex_mort</th>\n",
       "      <th>total_bc_limit</th>\n",
       "      <th>total_il_high_credit_limit</th>\n",
       "    </tr>\n",
       "  </thead>\n",
       "  <tbody>\n",
       "    <tr>\n",
       "      <th>0</th>\n",
       "      <td>10500.0</td>\n",
       "      <td>0.1719</td>\n",
       "      <td>375.35</td>\n",
       "      <td>RENT</td>\n",
       "      <td>66000.0</td>\n",
       "      <td>Source Verified</td>\n",
       "      <td>Mar-2019</td>\n",
       "      <td>low_risk</td>\n",
       "      <td>27.24</td>\n",
       "      <td>0.0</td>\n",
       "      <td>...</td>\n",
       "      <td>0.0</td>\n",
       "      <td>3.0</td>\n",
       "      <td>85.7</td>\n",
       "      <td>100.0</td>\n",
       "      <td>0.0</td>\n",
       "      <td>0.0</td>\n",
       "      <td>65687.0</td>\n",
       "      <td>38199.0</td>\n",
       "      <td>2000.0</td>\n",
       "      <td>61987.0</td>\n",
       "    </tr>\n",
       "    <tr>\n",
       "      <th>1</th>\n",
       "      <td>25000.0</td>\n",
       "      <td>0.2000</td>\n",
       "      <td>929.09</td>\n",
       "      <td>MORTGAGE</td>\n",
       "      <td>105000.0</td>\n",
       "      <td>Verified</td>\n",
       "      <td>Mar-2019</td>\n",
       "      <td>low_risk</td>\n",
       "      <td>20.23</td>\n",
       "      <td>0.0</td>\n",
       "      <td>...</td>\n",
       "      <td>0.0</td>\n",
       "      <td>6.0</td>\n",
       "      <td>91.2</td>\n",
       "      <td>50.0</td>\n",
       "      <td>1.0</td>\n",
       "      <td>0.0</td>\n",
       "      <td>271427.0</td>\n",
       "      <td>60641.0</td>\n",
       "      <td>41200.0</td>\n",
       "      <td>49197.0</td>\n",
       "    </tr>\n",
       "    <tr>\n",
       "      <th>2</th>\n",
       "      <td>20000.0</td>\n",
       "      <td>0.2000</td>\n",
       "      <td>529.88</td>\n",
       "      <td>MORTGAGE</td>\n",
       "      <td>56000.0</td>\n",
       "      <td>Verified</td>\n",
       "      <td>Mar-2019</td>\n",
       "      <td>low_risk</td>\n",
       "      <td>24.26</td>\n",
       "      <td>0.0</td>\n",
       "      <td>...</td>\n",
       "      <td>0.0</td>\n",
       "      <td>4.0</td>\n",
       "      <td>66.7</td>\n",
       "      <td>50.0</td>\n",
       "      <td>0.0</td>\n",
       "      <td>0.0</td>\n",
       "      <td>60644.0</td>\n",
       "      <td>45684.0</td>\n",
       "      <td>7500.0</td>\n",
       "      <td>43144.0</td>\n",
       "    </tr>\n",
       "    <tr>\n",
       "      <th>3</th>\n",
       "      <td>10000.0</td>\n",
       "      <td>0.1640</td>\n",
       "      <td>353.55</td>\n",
       "      <td>RENT</td>\n",
       "      <td>92000.0</td>\n",
       "      <td>Verified</td>\n",
       "      <td>Mar-2019</td>\n",
       "      <td>low_risk</td>\n",
       "      <td>31.44</td>\n",
       "      <td>0.0</td>\n",
       "      <td>...</td>\n",
       "      <td>0.0</td>\n",
       "      <td>1.0</td>\n",
       "      <td>100.0</td>\n",
       "      <td>50.0</td>\n",
       "      <td>1.0</td>\n",
       "      <td>0.0</td>\n",
       "      <td>99506.0</td>\n",
       "      <td>68784.0</td>\n",
       "      <td>19700.0</td>\n",
       "      <td>76506.0</td>\n",
       "    </tr>\n",
       "    <tr>\n",
       "      <th>4</th>\n",
       "      <td>22000.0</td>\n",
       "      <td>0.1474</td>\n",
       "      <td>520.39</td>\n",
       "      <td>MORTGAGE</td>\n",
       "      <td>52000.0</td>\n",
       "      <td>Not Verified</td>\n",
       "      <td>Mar-2019</td>\n",
       "      <td>low_risk</td>\n",
       "      <td>18.76</td>\n",
       "      <td>0.0</td>\n",
       "      <td>...</td>\n",
       "      <td>0.0</td>\n",
       "      <td>1.0</td>\n",
       "      <td>100.0</td>\n",
       "      <td>0.0</td>\n",
       "      <td>0.0</td>\n",
       "      <td>0.0</td>\n",
       "      <td>219750.0</td>\n",
       "      <td>25919.0</td>\n",
       "      <td>27600.0</td>\n",
       "      <td>20000.0</td>\n",
       "    </tr>\n",
       "  </tbody>\n",
       "</table>\n",
       "<p>5 rows × 83 columns</p>\n",
       "</div>"
      ],
      "text/plain": [
       "   loan_amnt  int_rate  installment home_ownership  annual_inc  \\\n",
       "0    10500.0    0.1719       375.35           RENT     66000.0   \n",
       "1    25000.0    0.2000       929.09       MORTGAGE    105000.0   \n",
       "2    20000.0    0.2000       529.88       MORTGAGE     56000.0   \n",
       "3    10000.0    0.1640       353.55           RENT     92000.0   \n",
       "4    22000.0    0.1474       520.39       MORTGAGE     52000.0   \n",
       "\n",
       "  verification_status   issue_d loan_status    dti  delinq_2yrs  ...  \\\n",
       "0     Source Verified  Mar-2019    low_risk  27.24          0.0  ...   \n",
       "1            Verified  Mar-2019    low_risk  20.23          0.0  ...   \n",
       "2            Verified  Mar-2019    low_risk  24.26          0.0  ...   \n",
       "3            Verified  Mar-2019    low_risk  31.44          0.0  ...   \n",
       "4        Not Verified  Mar-2019    low_risk  18.76          0.0  ...   \n",
       "\n",
       "   num_tl_90g_dpd_24m  num_tl_op_past_12m  pct_tl_nvr_dlq  percent_bc_gt_75  \\\n",
       "0                 0.0                 3.0            85.7             100.0   \n",
       "1                 0.0                 6.0            91.2              50.0   \n",
       "2                 0.0                 4.0            66.7              50.0   \n",
       "3                 0.0                 1.0           100.0              50.0   \n",
       "4                 0.0                 1.0           100.0               0.0   \n",
       "\n",
       "   pub_rec_bankruptcies tax_liens  tot_hi_cred_lim  total_bal_ex_mort  \\\n",
       "0                   0.0       0.0          65687.0            38199.0   \n",
       "1                   1.0       0.0         271427.0            60641.0   \n",
       "2                   0.0       0.0          60644.0            45684.0   \n",
       "3                   1.0       0.0          99506.0            68784.0   \n",
       "4                   0.0       0.0         219750.0            25919.0   \n",
       "\n",
       "   total_bc_limit  total_il_high_credit_limit  \n",
       "0          2000.0                     61987.0  \n",
       "1         41200.0                     49197.0  \n",
       "2          7500.0                     43144.0  \n",
       "3         19700.0                     76506.0  \n",
       "4         27600.0                     20000.0  \n",
       "\n",
       "[5 rows x 83 columns]"
      ]
     },
     "execution_count": 30,
     "metadata": {},
     "output_type": "execute_result"
    }
   ],
   "source": [
    "# reset index\n",
    "loans_df.reset_index(inplace=True, drop=True)\n",
    "loans_df.head()"
   ]
  },
  {
   "cell_type": "code",
   "execution_count": 31,
   "metadata": {},
   "outputs": [],
   "source": [
    "# save our loans_df as clean_loans_df csv file\n",
    "clean_loans_df = loans_df\n",
    "\n",
    "clean_loans_df.to_csv(\"./data/clean_loans.csv\", index=False)"
   ]
  },
  {
   "cell_type": "markdown",
   "metadata": {},
   "source": [
    "### Split the Data into Training and Testing"
   ]
  },
  {
   "cell_type": "code",
   "execution_count": 32,
   "metadata": {},
   "outputs": [
    {
     "data": {
      "text/html": [
       "<div>\n",
       "<style scoped>\n",
       "    .dataframe tbody tr th:only-of-type {\n",
       "        vertical-align: middle;\n",
       "    }\n",
       "\n",
       "    .dataframe tbody tr th {\n",
       "        vertical-align: top;\n",
       "    }\n",
       "\n",
       "    .dataframe thead th {\n",
       "        text-align: right;\n",
       "    }\n",
       "</style>\n",
       "<table border=\"1\" class=\"dataframe\">\n",
       "  <thead>\n",
       "    <tr style=\"text-align: right;\">\n",
       "      <th></th>\n",
       "      <th>loan_amnt</th>\n",
       "      <th>int_rate</th>\n",
       "      <th>installment</th>\n",
       "      <th>home_ownership</th>\n",
       "      <th>annual_inc</th>\n",
       "      <th>verification_status</th>\n",
       "      <th>issue_d</th>\n",
       "      <th>loan_status</th>\n",
       "      <th>dti</th>\n",
       "      <th>delinq_2yrs</th>\n",
       "      <th>...</th>\n",
       "      <th>num_tl_90g_dpd_24m</th>\n",
       "      <th>num_tl_op_past_12m</th>\n",
       "      <th>pct_tl_nvr_dlq</th>\n",
       "      <th>percent_bc_gt_75</th>\n",
       "      <th>pub_rec_bankruptcies</th>\n",
       "      <th>tax_liens</th>\n",
       "      <th>tot_hi_cred_lim</th>\n",
       "      <th>total_bal_ex_mort</th>\n",
       "      <th>total_bc_limit</th>\n",
       "      <th>total_il_high_credit_limit</th>\n",
       "    </tr>\n",
       "  </thead>\n",
       "  <tbody>\n",
       "    <tr>\n",
       "      <th>0</th>\n",
       "      <td>10500.0</td>\n",
       "      <td>0.1719</td>\n",
       "      <td>375.35</td>\n",
       "      <td>RENT</td>\n",
       "      <td>66000.0</td>\n",
       "      <td>Source Verified</td>\n",
       "      <td>Mar-2019</td>\n",
       "      <td>low_risk</td>\n",
       "      <td>27.24</td>\n",
       "      <td>0.0</td>\n",
       "      <td>...</td>\n",
       "      <td>0.0</td>\n",
       "      <td>3.0</td>\n",
       "      <td>85.7</td>\n",
       "      <td>100.0</td>\n",
       "      <td>0.0</td>\n",
       "      <td>0.0</td>\n",
       "      <td>65687.0</td>\n",
       "      <td>38199.0</td>\n",
       "      <td>2000.0</td>\n",
       "      <td>61987.0</td>\n",
       "    </tr>\n",
       "    <tr>\n",
       "      <th>1</th>\n",
       "      <td>25000.0</td>\n",
       "      <td>0.2000</td>\n",
       "      <td>929.09</td>\n",
       "      <td>MORTGAGE</td>\n",
       "      <td>105000.0</td>\n",
       "      <td>Verified</td>\n",
       "      <td>Mar-2019</td>\n",
       "      <td>low_risk</td>\n",
       "      <td>20.23</td>\n",
       "      <td>0.0</td>\n",
       "      <td>...</td>\n",
       "      <td>0.0</td>\n",
       "      <td>6.0</td>\n",
       "      <td>91.2</td>\n",
       "      <td>50.0</td>\n",
       "      <td>1.0</td>\n",
       "      <td>0.0</td>\n",
       "      <td>271427.0</td>\n",
       "      <td>60641.0</td>\n",
       "      <td>41200.0</td>\n",
       "      <td>49197.0</td>\n",
       "    </tr>\n",
       "    <tr>\n",
       "      <th>2</th>\n",
       "      <td>20000.0</td>\n",
       "      <td>0.2000</td>\n",
       "      <td>529.88</td>\n",
       "      <td>MORTGAGE</td>\n",
       "      <td>56000.0</td>\n",
       "      <td>Verified</td>\n",
       "      <td>Mar-2019</td>\n",
       "      <td>low_risk</td>\n",
       "      <td>24.26</td>\n",
       "      <td>0.0</td>\n",
       "      <td>...</td>\n",
       "      <td>0.0</td>\n",
       "      <td>4.0</td>\n",
       "      <td>66.7</td>\n",
       "      <td>50.0</td>\n",
       "      <td>0.0</td>\n",
       "      <td>0.0</td>\n",
       "      <td>60644.0</td>\n",
       "      <td>45684.0</td>\n",
       "      <td>7500.0</td>\n",
       "      <td>43144.0</td>\n",
       "    </tr>\n",
       "    <tr>\n",
       "      <th>3</th>\n",
       "      <td>10000.0</td>\n",
       "      <td>0.1640</td>\n",
       "      <td>353.55</td>\n",
       "      <td>RENT</td>\n",
       "      <td>92000.0</td>\n",
       "      <td>Verified</td>\n",
       "      <td>Mar-2019</td>\n",
       "      <td>low_risk</td>\n",
       "      <td>31.44</td>\n",
       "      <td>0.0</td>\n",
       "      <td>...</td>\n",
       "      <td>0.0</td>\n",
       "      <td>1.0</td>\n",
       "      <td>100.0</td>\n",
       "      <td>50.0</td>\n",
       "      <td>1.0</td>\n",
       "      <td>0.0</td>\n",
       "      <td>99506.0</td>\n",
       "      <td>68784.0</td>\n",
       "      <td>19700.0</td>\n",
       "      <td>76506.0</td>\n",
       "    </tr>\n",
       "    <tr>\n",
       "      <th>4</th>\n",
       "      <td>22000.0</td>\n",
       "      <td>0.1474</td>\n",
       "      <td>520.39</td>\n",
       "      <td>MORTGAGE</td>\n",
       "      <td>52000.0</td>\n",
       "      <td>Not Verified</td>\n",
       "      <td>Mar-2019</td>\n",
       "      <td>low_risk</td>\n",
       "      <td>18.76</td>\n",
       "      <td>0.0</td>\n",
       "      <td>...</td>\n",
       "      <td>0.0</td>\n",
       "      <td>1.0</td>\n",
       "      <td>100.0</td>\n",
       "      <td>0.0</td>\n",
       "      <td>0.0</td>\n",
       "      <td>0.0</td>\n",
       "      <td>219750.0</td>\n",
       "      <td>25919.0</td>\n",
       "      <td>27600.0</td>\n",
       "      <td>20000.0</td>\n",
       "    </tr>\n",
       "  </tbody>\n",
       "</table>\n",
       "<p>5 rows × 83 columns</p>\n",
       "</div>"
      ],
      "text/plain": [
       "   loan_amnt  int_rate  installment home_ownership  annual_inc  \\\n",
       "0    10500.0    0.1719       375.35           RENT     66000.0   \n",
       "1    25000.0    0.2000       929.09       MORTGAGE    105000.0   \n",
       "2    20000.0    0.2000       529.88       MORTGAGE     56000.0   \n",
       "3    10000.0    0.1640       353.55           RENT     92000.0   \n",
       "4    22000.0    0.1474       520.39       MORTGAGE     52000.0   \n",
       "\n",
       "  verification_status   issue_d loan_status    dti  delinq_2yrs  ...  \\\n",
       "0     Source Verified  Mar-2019    low_risk  27.24          0.0  ...   \n",
       "1            Verified  Mar-2019    low_risk  20.23          0.0  ...   \n",
       "2            Verified  Mar-2019    low_risk  24.26          0.0  ...   \n",
       "3            Verified  Mar-2019    low_risk  31.44          0.0  ...   \n",
       "4        Not Verified  Mar-2019    low_risk  18.76          0.0  ...   \n",
       "\n",
       "   num_tl_90g_dpd_24m  num_tl_op_past_12m  pct_tl_nvr_dlq  percent_bc_gt_75  \\\n",
       "0                 0.0                 3.0            85.7             100.0   \n",
       "1                 0.0                 6.0            91.2              50.0   \n",
       "2                 0.0                 4.0            66.7              50.0   \n",
       "3                 0.0                 1.0           100.0              50.0   \n",
       "4                 0.0                 1.0           100.0               0.0   \n",
       "\n",
       "   pub_rec_bankruptcies tax_liens  tot_hi_cred_lim  total_bal_ex_mort  \\\n",
       "0                   0.0       0.0          65687.0            38199.0   \n",
       "1                   1.0       0.0         271427.0            60641.0   \n",
       "2                   0.0       0.0          60644.0            45684.0   \n",
       "3                   1.0       0.0          99506.0            68784.0   \n",
       "4                   0.0       0.0         219750.0            25919.0   \n",
       "\n",
       "   total_bc_limit  total_il_high_credit_limit  \n",
       "0          2000.0                     61987.0  \n",
       "1         41200.0                     49197.0  \n",
       "2          7500.0                     43144.0  \n",
       "3         19700.0                     76506.0  \n",
       "4         27600.0                     20000.0  \n",
       "\n",
       "[5 rows x 83 columns]"
      ]
     },
     "execution_count": 32,
     "metadata": {},
     "output_type": "execute_result"
    }
   ],
   "source": [
    "# read in the csv file\n",
    "df = pd.read_csv(\"./data/clean_loans.csv\")\n",
    "df.head()"
   ]
  },
  {
   "cell_type": "code",
   "execution_count": 33,
   "metadata": {
    "tags": []
   },
   "outputs": [
    {
     "data": {
      "text/html": [
       "<div>\n",
       "<style scoped>\n",
       "    .dataframe tbody tr th:only-of-type {\n",
       "        vertical-align: middle;\n",
       "    }\n",
       "\n",
       "    .dataframe tbody tr th {\n",
       "        vertical-align: top;\n",
       "    }\n",
       "\n",
       "    .dataframe thead th {\n",
       "        text-align: right;\n",
       "    }\n",
       "</style>\n",
       "<table border=\"1\" class=\"dataframe\">\n",
       "  <thead>\n",
       "    <tr style=\"text-align: right;\">\n",
       "      <th></th>\n",
       "      <th>loan_amnt</th>\n",
       "      <th>int_rate</th>\n",
       "      <th>installment</th>\n",
       "      <th>home_ownership</th>\n",
       "      <th>annual_inc</th>\n",
       "      <th>verification_status</th>\n",
       "      <th>issue_d</th>\n",
       "      <th>dti</th>\n",
       "      <th>delinq_2yrs</th>\n",
       "      <th>inq_last_6mths</th>\n",
       "      <th>...</th>\n",
       "      <th>num_tl_90g_dpd_24m</th>\n",
       "      <th>num_tl_op_past_12m</th>\n",
       "      <th>pct_tl_nvr_dlq</th>\n",
       "      <th>percent_bc_gt_75</th>\n",
       "      <th>pub_rec_bankruptcies</th>\n",
       "      <th>tax_liens</th>\n",
       "      <th>tot_hi_cred_lim</th>\n",
       "      <th>total_bal_ex_mort</th>\n",
       "      <th>total_bc_limit</th>\n",
       "      <th>total_il_high_credit_limit</th>\n",
       "    </tr>\n",
       "  </thead>\n",
       "  <tbody>\n",
       "    <tr>\n",
       "      <th>0</th>\n",
       "      <td>10500.0</td>\n",
       "      <td>0.1719</td>\n",
       "      <td>375.35</td>\n",
       "      <td>RENT</td>\n",
       "      <td>66000.0</td>\n",
       "      <td>Source Verified</td>\n",
       "      <td>Mar-2019</td>\n",
       "      <td>27.24</td>\n",
       "      <td>0.0</td>\n",
       "      <td>0.0</td>\n",
       "      <td>...</td>\n",
       "      <td>0.0</td>\n",
       "      <td>3.0</td>\n",
       "      <td>85.7</td>\n",
       "      <td>100.0</td>\n",
       "      <td>0.0</td>\n",
       "      <td>0.0</td>\n",
       "      <td>65687.0</td>\n",
       "      <td>38199.0</td>\n",
       "      <td>2000.0</td>\n",
       "      <td>61987.0</td>\n",
       "    </tr>\n",
       "    <tr>\n",
       "      <th>1</th>\n",
       "      <td>25000.0</td>\n",
       "      <td>0.2000</td>\n",
       "      <td>929.09</td>\n",
       "      <td>MORTGAGE</td>\n",
       "      <td>105000.0</td>\n",
       "      <td>Verified</td>\n",
       "      <td>Mar-2019</td>\n",
       "      <td>20.23</td>\n",
       "      <td>0.0</td>\n",
       "      <td>0.0</td>\n",
       "      <td>...</td>\n",
       "      <td>0.0</td>\n",
       "      <td>6.0</td>\n",
       "      <td>91.2</td>\n",
       "      <td>50.0</td>\n",
       "      <td>1.0</td>\n",
       "      <td>0.0</td>\n",
       "      <td>271427.0</td>\n",
       "      <td>60641.0</td>\n",
       "      <td>41200.0</td>\n",
       "      <td>49197.0</td>\n",
       "    </tr>\n",
       "    <tr>\n",
       "      <th>2</th>\n",
       "      <td>20000.0</td>\n",
       "      <td>0.2000</td>\n",
       "      <td>529.88</td>\n",
       "      <td>MORTGAGE</td>\n",
       "      <td>56000.0</td>\n",
       "      <td>Verified</td>\n",
       "      <td>Mar-2019</td>\n",
       "      <td>24.26</td>\n",
       "      <td>0.0</td>\n",
       "      <td>0.0</td>\n",
       "      <td>...</td>\n",
       "      <td>0.0</td>\n",
       "      <td>4.0</td>\n",
       "      <td>66.7</td>\n",
       "      <td>50.0</td>\n",
       "      <td>0.0</td>\n",
       "      <td>0.0</td>\n",
       "      <td>60644.0</td>\n",
       "      <td>45684.0</td>\n",
       "      <td>7500.0</td>\n",
       "      <td>43144.0</td>\n",
       "    </tr>\n",
       "    <tr>\n",
       "      <th>3</th>\n",
       "      <td>10000.0</td>\n",
       "      <td>0.1640</td>\n",
       "      <td>353.55</td>\n",
       "      <td>RENT</td>\n",
       "      <td>92000.0</td>\n",
       "      <td>Verified</td>\n",
       "      <td>Mar-2019</td>\n",
       "      <td>31.44</td>\n",
       "      <td>0.0</td>\n",
       "      <td>1.0</td>\n",
       "      <td>...</td>\n",
       "      <td>0.0</td>\n",
       "      <td>1.0</td>\n",
       "      <td>100.0</td>\n",
       "      <td>50.0</td>\n",
       "      <td>1.0</td>\n",
       "      <td>0.0</td>\n",
       "      <td>99506.0</td>\n",
       "      <td>68784.0</td>\n",
       "      <td>19700.0</td>\n",
       "      <td>76506.0</td>\n",
       "    </tr>\n",
       "    <tr>\n",
       "      <th>4</th>\n",
       "      <td>22000.0</td>\n",
       "      <td>0.1474</td>\n",
       "      <td>520.39</td>\n",
       "      <td>MORTGAGE</td>\n",
       "      <td>52000.0</td>\n",
       "      <td>Not Verified</td>\n",
       "      <td>Mar-2019</td>\n",
       "      <td>18.76</td>\n",
       "      <td>0.0</td>\n",
       "      <td>1.0</td>\n",
       "      <td>...</td>\n",
       "      <td>0.0</td>\n",
       "      <td>1.0</td>\n",
       "      <td>100.0</td>\n",
       "      <td>0.0</td>\n",
       "      <td>0.0</td>\n",
       "      <td>0.0</td>\n",
       "      <td>219750.0</td>\n",
       "      <td>25919.0</td>\n",
       "      <td>27600.0</td>\n",
       "      <td>20000.0</td>\n",
       "    </tr>\n",
       "  </tbody>\n",
       "</table>\n",
       "<p>5 rows × 82 columns</p>\n",
       "</div>"
      ],
      "text/plain": [
       "   loan_amnt  int_rate  installment home_ownership  annual_inc  \\\n",
       "0    10500.0    0.1719       375.35           RENT     66000.0   \n",
       "1    25000.0    0.2000       929.09       MORTGAGE    105000.0   \n",
       "2    20000.0    0.2000       529.88       MORTGAGE     56000.0   \n",
       "3    10000.0    0.1640       353.55           RENT     92000.0   \n",
       "4    22000.0    0.1474       520.39       MORTGAGE     52000.0   \n",
       "\n",
       "  verification_status   issue_d    dti  delinq_2yrs  inq_last_6mths  ...  \\\n",
       "0     Source Verified  Mar-2019  27.24          0.0             0.0  ...   \n",
       "1            Verified  Mar-2019  20.23          0.0             0.0  ...   \n",
       "2            Verified  Mar-2019  24.26          0.0             0.0  ...   \n",
       "3            Verified  Mar-2019  31.44          0.0             1.0  ...   \n",
       "4        Not Verified  Mar-2019  18.76          0.0             1.0  ...   \n",
       "\n",
       "   num_tl_90g_dpd_24m  num_tl_op_past_12m  pct_tl_nvr_dlq  percent_bc_gt_75  \\\n",
       "0                 0.0                 3.0            85.7             100.0   \n",
       "1                 0.0                 6.0            91.2              50.0   \n",
       "2                 0.0                 4.0            66.7              50.0   \n",
       "3                 0.0                 1.0           100.0              50.0   \n",
       "4                 0.0                 1.0           100.0               0.0   \n",
       "\n",
       "  pub_rec_bankruptcies  tax_liens  tot_hi_cred_lim  total_bal_ex_mort  \\\n",
       "0                  0.0        0.0          65687.0            38199.0   \n",
       "1                  1.0        0.0         271427.0            60641.0   \n",
       "2                  0.0        0.0          60644.0            45684.0   \n",
       "3                  1.0        0.0          99506.0            68784.0   \n",
       "4                  0.0        0.0         219750.0            25919.0   \n",
       "\n",
       "   total_bc_limit  total_il_high_credit_limit  \n",
       "0          2000.0                     61987.0  \n",
       "1         41200.0                     49197.0  \n",
       "2          7500.0                     43144.0  \n",
       "3         19700.0                     76506.0  \n",
       "4         27600.0                     20000.0  \n",
       "\n",
       "[5 rows x 82 columns]"
      ]
     },
     "execution_count": 33,
     "metadata": {},
     "output_type": "execute_result"
    }
   ],
   "source": [
    "# Create our features\n",
    "X = df.drop(columns='loan_status')\n",
    "X.head()"
   ]
  },
  {
   "cell_type": "code",
   "execution_count": 34,
   "metadata": {},
   "outputs": [
    {
     "data": {
      "text/plain": [
       "low_risk     68470\n",
       "high_risk      347\n",
       "Name: loan_status, dtype: int64"
      ]
     },
     "execution_count": 34,
     "metadata": {},
     "output_type": "execute_result"
    }
   ],
   "source": [
    "# Create our target\n",
    "y = df['loan_status']\n",
    "y.value_counts()"
   ]
  },
  {
   "cell_type": "code",
   "execution_count": 35,
   "metadata": {
    "tags": []
   },
   "outputs": [
    {
     "data": {
      "text/plain": [
       "(68817, 82)"
      ]
     },
     "execution_count": 35,
     "metadata": {},
     "output_type": "execute_result"
    }
   ],
   "source": [
    "X.shape"
   ]
  },
  {
   "cell_type": "code",
   "execution_count": 36,
   "metadata": {},
   "outputs": [
    {
     "data": {
      "text/plain": [
       "(68817, 92)"
      ]
     },
     "execution_count": 36,
     "metadata": {},
     "output_type": "execute_result"
    }
   ],
   "source": [
    "# use get_dummies\n",
    "X_encoded = pd.get_dummies(X)\n",
    "X_encoded.shape"
   ]
  },
  {
   "cell_type": "code",
   "execution_count": 37,
   "metadata": {
    "collapsed": true,
    "jupyter": {
     "outputs_hidden": true
    },
    "tags": []
   },
   "outputs": [
    {
     "name": "stdout",
     "output_type": "stream",
     "text": [
      "<class 'pandas.core.frame.DataFrame'>\n",
      "RangeIndex: 68817 entries, 0 to 68816\n",
      "Data columns (total 92 columns):\n",
      " #   Column                               Non-Null Count  Dtype  \n",
      "---  ------                               --------------  -----  \n",
      " 0   loan_amnt                            68817 non-null  float64\n",
      " 1   int_rate                             68817 non-null  float64\n",
      " 2   installment                          68817 non-null  float64\n",
      " 3   annual_inc                           68817 non-null  float64\n",
      " 4   dti                                  68817 non-null  float64\n",
      " 5   delinq_2yrs                          68817 non-null  float64\n",
      " 6   inq_last_6mths                       68817 non-null  float64\n",
      " 7   open_acc                             68817 non-null  float64\n",
      " 8   pub_rec                              68817 non-null  float64\n",
      " 9   revol_bal                            68817 non-null  float64\n",
      " 10  total_acc                            68817 non-null  float64\n",
      " 11  out_prncp                            68817 non-null  float64\n",
      " 12  out_prncp_inv                        68817 non-null  float64\n",
      " 13  total_pymnt                          68817 non-null  float64\n",
      " 14  total_pymnt_inv                      68817 non-null  float64\n",
      " 15  total_rec_prncp                      68817 non-null  float64\n",
      " 16  total_rec_int                        68817 non-null  float64\n",
      " 17  total_rec_late_fee                   68817 non-null  float64\n",
      " 18  recoveries                           68817 non-null  float64\n",
      " 19  collection_recovery_fee              68817 non-null  float64\n",
      " 20  last_pymnt_amnt                      68817 non-null  float64\n",
      " 21  collections_12_mths_ex_med           68817 non-null  float64\n",
      " 22  policy_code                          68817 non-null  float64\n",
      " 23  acc_now_delinq                       68817 non-null  float64\n",
      " 24  tot_coll_amt                         68817 non-null  float64\n",
      " 25  tot_cur_bal                          68817 non-null  float64\n",
      " 26  open_acc_6m                          68817 non-null  float64\n",
      " 27  open_act_il                          68817 non-null  float64\n",
      " 28  open_il_12m                          68817 non-null  float64\n",
      " 29  open_il_24m                          68817 non-null  float64\n",
      " 30  mths_since_rcnt_il                   68817 non-null  float64\n",
      " 31  total_bal_il                         68817 non-null  float64\n",
      " 32  il_util                              68817 non-null  float64\n",
      " 33  open_rv_12m                          68817 non-null  float64\n",
      " 34  open_rv_24m                          68817 non-null  float64\n",
      " 35  max_bal_bc                           68817 non-null  float64\n",
      " 36  all_util                             68817 non-null  float64\n",
      " 37  total_rev_hi_lim                     68817 non-null  float64\n",
      " 38  inq_fi                               68817 non-null  float64\n",
      " 39  total_cu_tl                          68817 non-null  float64\n",
      " 40  inq_last_12m                         68817 non-null  float64\n",
      " 41  acc_open_past_24mths                 68817 non-null  float64\n",
      " 42  avg_cur_bal                          68817 non-null  float64\n",
      " 43  bc_open_to_buy                       68817 non-null  float64\n",
      " 44  bc_util                              68817 non-null  float64\n",
      " 45  chargeoff_within_12_mths             68817 non-null  float64\n",
      " 46  delinq_amnt                          68817 non-null  float64\n",
      " 47  mo_sin_old_il_acct                   68817 non-null  float64\n",
      " 48  mo_sin_old_rev_tl_op                 68817 non-null  float64\n",
      " 49  mo_sin_rcnt_rev_tl_op                68817 non-null  float64\n",
      " 50  mo_sin_rcnt_tl                       68817 non-null  float64\n",
      " 51  mort_acc                             68817 non-null  float64\n",
      " 52  mths_since_recent_bc                 68817 non-null  float64\n",
      " 53  mths_since_recent_inq                68817 non-null  float64\n",
      " 54  num_accts_ever_120_pd                68817 non-null  float64\n",
      " 55  num_actv_bc_tl                       68817 non-null  float64\n",
      " 56  num_actv_rev_tl                      68817 non-null  float64\n",
      " 57  num_bc_sats                          68817 non-null  float64\n",
      " 58  num_bc_tl                            68817 non-null  float64\n",
      " 59  num_il_tl                            68817 non-null  float64\n",
      " 60  num_op_rev_tl                        68817 non-null  float64\n",
      " 61  num_rev_accts                        68817 non-null  float64\n",
      " 62  num_rev_tl_bal_gt_0                  68817 non-null  float64\n",
      " 63  num_sats                             68817 non-null  float64\n",
      " 64  num_tl_120dpd_2m                     68817 non-null  float64\n",
      " 65  num_tl_30dpd                         68817 non-null  float64\n",
      " 66  num_tl_90g_dpd_24m                   68817 non-null  float64\n",
      " 67  num_tl_op_past_12m                   68817 non-null  float64\n",
      " 68  pct_tl_nvr_dlq                       68817 non-null  float64\n",
      " 69  percent_bc_gt_75                     68817 non-null  float64\n",
      " 70  pub_rec_bankruptcies                 68817 non-null  float64\n",
      " 71  tax_liens                            68817 non-null  float64\n",
      " 72  tot_hi_cred_lim                      68817 non-null  float64\n",
      " 73  total_bal_ex_mort                    68817 non-null  float64\n",
      " 74  total_bc_limit                       68817 non-null  float64\n",
      " 75  total_il_high_credit_limit           68817 non-null  float64\n",
      " 76  home_ownership_ANY                   68817 non-null  uint8  \n",
      " 77  home_ownership_MORTGAGE              68817 non-null  uint8  \n",
      " 78  home_ownership_OWN                   68817 non-null  uint8  \n",
      " 79  home_ownership_RENT                  68817 non-null  uint8  \n",
      " 80  verification_status_Not Verified     68817 non-null  uint8  \n",
      " 81  verification_status_Source Verified  68817 non-null  uint8  \n",
      " 82  verification_status_Verified         68817 non-null  uint8  \n",
      " 83  issue_d_Feb-2019                     68817 non-null  uint8  \n",
      " 84  issue_d_Jan-2019                     68817 non-null  uint8  \n",
      " 85  issue_d_Mar-2019                     68817 non-null  uint8  \n",
      " 86  initial_list_status_f                68817 non-null  uint8  \n",
      " 87  initial_list_status_w                68817 non-null  uint8  \n",
      " 88  next_pymnt_d_Apr-2019                68817 non-null  uint8  \n",
      " 89  next_pymnt_d_May-2019                68817 non-null  uint8  \n",
      " 90  application_type_Individual          68817 non-null  uint8  \n",
      " 91  application_type_Joint App           68817 non-null  uint8  \n",
      "dtypes: float64(76), uint8(16)\n",
      "memory usage: 41.0 MB\n"
     ]
    }
   ],
   "source": [
    "X_encoded.info()"
   ]
  },
  {
   "cell_type": "code",
   "execution_count": 38,
   "metadata": {},
   "outputs": [
    {
     "data": {
      "text/plain": [
       "(68817, 92)"
      ]
     },
     "execution_count": 38,
     "metadata": {},
     "output_type": "execute_result"
    }
   ],
   "source": [
    "X_encoded.shape"
   ]
  },
  {
   "cell_type": "code",
   "execution_count": 39,
   "metadata": {},
   "outputs": [
    {
     "data": {
      "text/plain": [
       "(68817,)"
      ]
     },
     "execution_count": 39,
     "metadata": {},
     "output_type": "execute_result"
    }
   ],
   "source": [
    "y.shape"
   ]
  },
  {
   "cell_type": "code",
   "execution_count": 40,
   "metadata": {},
   "outputs": [],
   "source": [
    "# scale and normalize X_encoded\n",
    "data_scaler = StandardScaler()"
   ]
  },
  {
   "cell_type": "code",
   "execution_count": 41,
   "metadata": {
    "tags": []
   },
   "outputs": [
    {
     "data": {
      "text/plain": [
       "array([[-0.60109272,  0.91798436, -0.36555835, -0.1921948 ,  0.27040056,\n",
       "        -0.30314253, -0.65649151, -0.76165917, -0.37420432, -0.73252183,\n",
       "        -0.8658573 , -0.58124513, -0.58081958, -0.50046544, -0.50029335,\n",
       "        -0.3228639 , -0.89960419, -0.03227363,  0.        ,  0.        ,\n",
       "        -0.17383528, -0.12011247,  0.        ,  0.        , -0.00589695,\n",
       "        -0.72692228,  1.67997825,  0.2392533 ,  1.19137226,  1.35299632,\n",
       "        -0.80895603, -0.13418715, -0.45717571, -0.16310175, -0.24864022,\n",
       "        -0.83203994,  0.12422197, -1.04213361, -0.24758239, -0.59166015,\n",
       "         0.75578041,  0.37274923, -0.59052419, -0.80915288,  1.04494582,\n",
       "        -0.07820908, -0.00778953, -0.56994022, -0.7981628 , -0.64845959,\n",
       "        -0.66313947, -0.8249868 , -0.14674317, -1.10824038, -0.33490355,\n",
       "        -1.13862411, -1.05103022, -1.27998521, -1.40011594,  0.06599699,\n",
       "        -1.11347944, -1.31043257, -1.0519437 , -0.75930693,  0.        ,\n",
       "         0.        , -0.13347217,  0.41138923, -1.12385485,  2.06277933,\n",
       "        -0.37410344,  0.        , -0.74865495, -0.40321335, -1.03504094,\n",
       "         0.12293632, -0.0968118 , -1.054078  , -0.34569279,  1.34013488,\n",
       "        -0.95693996,  1.29377539, -0.41678604, -0.76914635, -0.90648342,\n",
       "         2.15455915, -0.37602554,  0.37602554, -0.78814271,  0.78814271,\n",
       "         0.40290386, -0.40290386]])"
      ]
     },
     "execution_count": 41,
     "metadata": {},
     "output_type": "execute_result"
    }
   ],
   "source": [
    "# fit transform\n",
    "X_encoded_scaled = data_scaler.fit_transform(X_encoded)\n",
    "X_encoded_scaled[:1]"
   ]
  },
  {
   "cell_type": "code",
   "execution_count": 42,
   "metadata": {
    "tags": []
   },
   "outputs": [
    {
     "data": {
      "text/plain": [
       "Counter({'low_risk': 51366, 'high_risk': 246})"
      ]
     },
     "execution_count": 42,
     "metadata": {},
     "output_type": "execute_result"
    }
   ],
   "source": [
    "# train_test_split\n",
    "X_train, X_test, y_train, y_test = train_test_split(X_encoded_scaled, y, random_state=1)\n",
    "Counter(y_train)"
   ]
  },
  {
   "cell_type": "code",
   "execution_count": 43,
   "metadata": {},
   "outputs": [
    {
     "data": {
      "text/plain": [
       "low_risk     51366\n",
       "high_risk      246\n",
       "Name: loan_status, dtype: int64"
      ]
     },
     "execution_count": 43,
     "metadata": {},
     "output_type": "execute_result"
    }
   ],
   "source": [
    "y_train.value_counts()"
   ]
  },
  {
   "cell_type": "code",
   "execution_count": 44,
   "metadata": {},
   "outputs": [
    {
     "name": "stdout",
     "output_type": "stream",
     "text": [
      "0.004789160144842892\n"
     ]
    }
   ],
   "source": [
    "# imbalance\n",
    "print(246/51366)"
   ]
  },
  {
   "cell_type": "code",
   "execution_count": 45,
   "metadata": {},
   "outputs": [
    {
     "data": {
      "text/plain": [
       "LogisticRegression(random_state=1)"
      ]
     },
     "execution_count": 45,
     "metadata": {},
     "output_type": "execute_result"
    }
   ],
   "source": [
    "# get baseline of performance using logistics regression model\n",
    "classifier = LogisticRegression(solver='lbfgs', random_state=1)\n",
    "classifier"
   ]
  },
  {
   "cell_type": "code",
   "execution_count": 46,
   "metadata": {},
   "outputs": [
    {
     "data": {
      "text/plain": [
       "LogisticRegression(random_state=1)"
      ]
     },
     "execution_count": 46,
     "metadata": {},
     "output_type": "execute_result"
    }
   ],
   "source": [
    "# fit (train) our model with our data\n",
    "classifier.fit(X_train, y_train)"
   ]
  },
  {
   "cell_type": "code",
   "execution_count": 47,
   "metadata": {},
   "outputs": [
    {
     "data": {
      "text/plain": [
       "array(['low_risk', 'low_risk', 'low_risk', ..., 'low_risk', 'low_risk',\n",
       "       'low_risk'], dtype=object)"
      ]
     },
     "execution_count": 47,
     "metadata": {},
     "output_type": "execute_result"
    }
   ],
   "source": [
    "# predict\n",
    "y_pred = classifier.predict(X_test)\n",
    "y_pred"
   ]
  },
  {
   "cell_type": "code",
   "execution_count": 48,
   "metadata": {},
   "outputs": [
    {
     "data": {
      "text/html": [
       "<div>\n",
       "<style scoped>\n",
       "    .dataframe tbody tr th:only-of-type {\n",
       "        vertical-align: middle;\n",
       "    }\n",
       "\n",
       "    .dataframe tbody tr th {\n",
       "        vertical-align: top;\n",
       "    }\n",
       "\n",
       "    .dataframe thead th {\n",
       "        text-align: right;\n",
       "    }\n",
       "</style>\n",
       "<table border=\"1\" class=\"dataframe\">\n",
       "  <thead>\n",
       "    <tr style=\"text-align: right;\">\n",
       "      <th></th>\n",
       "      <th>Prediction</th>\n",
       "      <th>actual</th>\n",
       "    </tr>\n",
       "  </thead>\n",
       "  <tbody>\n",
       "    <tr>\n",
       "      <th>7034</th>\n",
       "      <td>low_risk</td>\n",
       "      <td>low_risk</td>\n",
       "    </tr>\n",
       "    <tr>\n",
       "      <th>38804</th>\n",
       "      <td>low_risk</td>\n",
       "      <td>low_risk</td>\n",
       "    </tr>\n",
       "    <tr>\n",
       "      <th>65533</th>\n",
       "      <td>low_risk</td>\n",
       "      <td>low_risk</td>\n",
       "    </tr>\n",
       "    <tr>\n",
       "      <th>37736</th>\n",
       "      <td>low_risk</td>\n",
       "      <td>low_risk</td>\n",
       "    </tr>\n",
       "    <tr>\n",
       "      <th>6390</th>\n",
       "      <td>low_risk</td>\n",
       "      <td>low_risk</td>\n",
       "    </tr>\n",
       "    <tr>\n",
       "      <th>...</th>\n",
       "      <td>...</td>\n",
       "      <td>...</td>\n",
       "    </tr>\n",
       "    <tr>\n",
       "      <th>31854</th>\n",
       "      <td>low_risk</td>\n",
       "      <td>low_risk</td>\n",
       "    </tr>\n",
       "    <tr>\n",
       "      <th>27835</th>\n",
       "      <td>low_risk</td>\n",
       "      <td>low_risk</td>\n",
       "    </tr>\n",
       "    <tr>\n",
       "      <th>3089</th>\n",
       "      <td>low_risk</td>\n",
       "      <td>low_risk</td>\n",
       "    </tr>\n",
       "    <tr>\n",
       "      <th>43343</th>\n",
       "      <td>low_risk</td>\n",
       "      <td>low_risk</td>\n",
       "    </tr>\n",
       "    <tr>\n",
       "      <th>27206</th>\n",
       "      <td>low_risk</td>\n",
       "      <td>low_risk</td>\n",
       "    </tr>\n",
       "  </tbody>\n",
       "</table>\n",
       "<p>17205 rows × 2 columns</p>\n",
       "</div>"
      ],
      "text/plain": [
       "      Prediction    actual\n",
       "7034    low_risk  low_risk\n",
       "38804   low_risk  low_risk\n",
       "65533   low_risk  low_risk\n",
       "37736   low_risk  low_risk\n",
       "6390    low_risk  low_risk\n",
       "...          ...       ...\n",
       "31854   low_risk  low_risk\n",
       "27835   low_risk  low_risk\n",
       "3089    low_risk  low_risk\n",
       "43343   low_risk  low_risk\n",
       "27206   low_risk  low_risk\n",
       "\n",
       "[17205 rows x 2 columns]"
      ]
     },
     "execution_count": 48,
     "metadata": {},
     "output_type": "execute_result"
    }
   ],
   "source": [
    "# view the data\n",
    "pd.DataFrame({'Prediction': y_pred, 'actual': y_test})"
   ]
  },
  {
   "cell_type": "code",
   "execution_count": 49,
   "metadata": {},
   "outputs": [
    {
     "data": {
      "text/plain": [
       "0.995059575704737"
      ]
     },
     "execution_count": 49,
     "metadata": {},
     "output_type": "execute_result"
    }
   ],
   "source": [
    "# calculate accuracy score\n",
    "accuracy_score(y_test, y_pred)"
   ]
  },
  {
   "cell_type": "code",
   "execution_count": 50,
   "metadata": {},
   "outputs": [
    {
     "name": "stdout",
     "output_type": "stream",
     "text": [
      "[[   21    80]\n",
      " [    5 17099]]\n"
     ]
    }
   ],
   "source": [
    "# generate confusion matrix\n",
    "cm = confusion_matrix(y_test, y_pred)\n",
    "print(cm)"
   ]
  },
  {
   "cell_type": "code",
   "execution_count": 51,
   "metadata": {},
   "outputs": [
    {
     "data": {
      "text/plain": [
       "<sklearn.metrics._plot.confusion_matrix.ConfusionMatrixDisplay at 0x169e1002888>"
      ]
     },
     "execution_count": 51,
     "metadata": {},
     "output_type": "execute_result"
    },
    {
     "data": {
      "image/png": "[encoded data removed]",
      "text/plain": [
       "<Figure size 432x288 with 2 Axes>"
      ]
     },
     "metadata": {
      "needs_background": "light"
     },
     "output_type": "display_data"
    }
   ],
   "source": [
    "# ConfusionMatrixDisplay\n",
    "disp = ConfusionMatrixDisplay(confusion_matrix = cm, display_labels = classifier.classes_)\n",
    "disp.plot()"
   ]
  },
  {
   "cell_type": "code",
   "execution_count": 52,
   "metadata": {},
   "outputs": [
    {
     "name": "stdout",
     "output_type": "stream",
     "text": [
      "              precision    recall  f1-score   support\n",
      "\n",
      "   high_risk       0.81      0.21      0.33       101\n",
      "    low_risk       1.00      1.00      1.00     17104\n",
      "\n",
      "    accuracy                           1.00     17205\n",
      "   macro avg       0.90      0.60      0.66     17205\n",
      "weighted avg       0.99      1.00      0.99     17205\n",
      "\n"
     ]
    }
   ],
   "source": [
    "# print classification report\n",
    "report = classification_report(y_test, y_pred)\n",
    "print(report)"
   ]
  },
  {
   "cell_type": "code",
   "execution_count": 53,
   "metadata": {},
   "outputs": [
    {
     "name": "stdout",
     "output_type": "stream",
     "text": [
      "                   pre       rec       spe        f1       geo       iba       sup\n",
      "\n",
      "  high_risk       0.81      0.21      1.00      0.33      0.46      0.19       101\n",
      "   low_risk       1.00      1.00      0.21      1.00      0.46      0.22     17104\n",
      "\n",
      "avg / total       0.99      1.00      0.21      0.99      0.46      0.22     17205\n",
      "\n"
     ]
    }
   ],
   "source": [
    "# print imbalanced classification report\n",
    "imb_report = classification_report_imbalanced(y_test, y_pred)\n",
    "print(imb_report)"
   ]
  },
  {
   "cell_type": "markdown",
   "metadata": {
    "tags": []
   },
   "source": [
    "### Oversampling\n",
    "\n",
    "In this section, you will compare two oversampling algorithms to determine which algorithm results in the best performance. You will oversample the data using the naive random oversampling algorithm and the SMOTE algorithm. For each algorithm, be sure to complete the folliowing steps:\n",
    "\n",
    "1. View the count of the target classes using `Counter` from the collections library. \n",
    "3. Use the resampled data to train a logistic regression model.\n",
    "3. Calculate the balanced accuracy score from sklearn.metrics.\n",
    "4. Print the confusion matrix from sklearn.metrics.\n",
    "5. Generate a classication report using the `imbalanced_classification_report` from imbalanced-learn.\n",
    "\n",
    "Note: Use a random state of 1 for each sampling algorithm to ensure consistency between tests"
   ]
  },
  {
   "cell_type": "markdown",
   "metadata": {},
   "source": [
    "#### Naive Random Oversampling"
   ]
  },
  {
   "cell_type": "code",
   "execution_count": 54,
   "metadata": {},
   "outputs": [
    {
     "data": {
      "text/plain": [
       "Counter({'low_risk': 51366, 'high_risk': 51366})"
      ]
     },
     "execution_count": 54,
     "metadata": {},
     "output_type": "execute_result"
    }
   ],
   "source": [
    "# Resample the training data with the RandomOversampler\n",
    "ros = RandomOverSampler(random_state = 1)\n",
    "X_resampled, y_resampled = ros.fit_resample(X_train, y_train)\n",
    "Counter(y_resampled)"
   ]
  },
  {
   "cell_type": "code",
   "execution_count": 55,
   "metadata": {},
   "outputs": [
    {
     "data": {
      "text/plain": [
       "array(['low_risk', 'low_risk', 'low_risk', ..., 'low_risk', 'low_risk',\n",
       "       'low_risk'], dtype=object)"
      ]
     },
     "execution_count": 55,
     "metadata": {},
     "output_type": "execute_result"
    }
   ],
   "source": [
    "# Train the Logistic Regression model using the resampled data\n",
    "# model\n",
    "model = LogisticRegression(solver = 'lbfgs', random_state = 1)\n",
    "\n",
    "# fit\n",
    "model.fit(X_resampled, y_resampled)\n",
    "\n",
    "# predict\n",
    "y_pred = model.predict(X_test)\n",
    "y_pred"
   ]
  },
  {
   "cell_type": "code",
   "execution_count": 56,
   "metadata": {},
   "outputs": [
    {
     "name": "stdout",
     "output_type": "stream",
     "text": [
      "[[   83    18]\n",
      " [ 2680 14424]]\n"
     ]
    }
   ],
   "source": [
    "# Display the confusion matrix\n",
    "cm = confusion_matrix(y_test, y_pred)\n",
    "print(cm)"
   ]
  },
  {
   "cell_type": "code",
   "execution_count": 57,
   "metadata": {},
   "outputs": [
    {
     "data": {
      "text/plain": [
       "<sklearn.metrics._plot.confusion_matrix.ConfusionMatrixDisplay at 0x1699c924dc8>"
      ]
     },
     "execution_count": 57,
     "metadata": {},
     "output_type": "execute_result"
    },
    {
     "data": {
      "image/png": "[encoded data removed]",
      "text/plain": [
       "<Figure size 432x288 with 2 Axes>"
      ]
     },
     "metadata": {
      "needs_background": "light"
     },
     "output_type": "display_data"
    }
   ],
   "source": [
    "disp = ConfusionMatrixDisplay(confusion_matrix = cm, display_labels = model.classes_)\n",
    "disp.plot()"
   ]
  },
  {
   "cell_type": "code",
   "execution_count": 58,
   "metadata": {},
   "outputs": [
    {
     "data": {
      "text/plain": [
       "0.8325468421491353"
      ]
     },
     "execution_count": 58,
     "metadata": {},
     "output_type": "execute_result"
    }
   ],
   "source": [
    "# Calculated the balanced accuracy score\n",
    "balanced_accuracy_score(y_test, y_pred)"
   ]
  },
  {
   "cell_type": "code",
   "execution_count": 59,
   "metadata": {},
   "outputs": [
    {
     "name": "stdout",
     "output_type": "stream",
     "text": [
      "                   pre       rec       spe        f1       geo       iba       sup\n",
      "\n",
      "  high_risk       0.03      0.82      0.84      0.06      0.83      0.69       101\n",
      "   low_risk       1.00      0.84      0.82      0.91      0.83      0.69     17104\n",
      "\n",
      "avg / total       0.99      0.84      0.82      0.91      0.83      0.69     17205\n",
      "\n"
     ]
    }
   ],
   "source": [
    "# Print the imbalanced classification report\n",
    "# base high_risk       0.81      0.21      1.00      0.33 \n",
    "imb_report = classification_report_imbalanced(y_test, y_pred)\n",
    "print(imb_report)"
   ]
  },
  {
   "cell_type": "markdown",
   "metadata": {},
   "source": [
    "#### SMOTE Oversampling"
   ]
  },
  {
   "cell_type": "code",
   "execution_count": 60,
   "metadata": {},
   "outputs": [
    {
     "data": {
      "text/plain": [
       "Counter({'low_risk': 51366, 'high_risk': 51366})"
      ]
     },
     "execution_count": 60,
     "metadata": {},
     "output_type": "execute_result"
    }
   ],
   "source": [
    "# Resample the training data with SMOTE\n",
    "X_resampled, y_resampled = SMOTE(random_state=1,\n",
    "    sampling_strategy='auto').fit_resample(\n",
    "    X_train, y_train)\n",
    "\n",
    "Counter(y_resampled)"
   ]
  },
  {
   "cell_type": "code",
   "execution_count": 61,
   "metadata": {},
   "outputs": [
    {
     "data": {
      "text/plain": [
       "array(['low_risk', 'low_risk', 'low_risk', ..., 'low_risk', 'low_risk',\n",
       "       'low_risk'], dtype=object)"
      ]
     },
     "execution_count": 61,
     "metadata": {},
     "output_type": "execute_result"
    }
   ],
   "source": [
    "# Train the Logistic Regression model using the resampled data\n",
    "# model\n",
    "model = LogisticRegression(solver = 'lbfgs', random_state = 1)\n",
    "\n",
    "# fit\n",
    "model.fit(X_resampled, y_resampled)\n",
    "\n",
    "# predict\n",
    "y_pred = model.predict(X_test)\n",
    "y_pred"
   ]
  },
  {
   "cell_type": "code",
   "execution_count": 62,
   "metadata": {},
   "outputs": [
    {
     "name": "stdout",
     "output_type": "stream",
     "text": [
      "[[   83    18]\n",
      " [ 2285 14819]]\n"
     ]
    }
   ],
   "source": [
    "# Display the confusion matrix\n",
    "cm = confusion_matrix(y_test, y_pred)\n",
    "print(cm)"
   ]
  },
  {
   "cell_type": "code",
   "execution_count": 63,
   "metadata": {},
   "outputs": [
    {
     "data": {
      "text/plain": [
       "<sklearn.metrics._plot.confusion_matrix.ConfusionMatrixDisplay at 0x169a02c5a48>"
      ]
     },
     "execution_count": 63,
     "metadata": {},
     "output_type": "execute_result"
    },
    {
     "data": {
      "image/png": "[encoded data removed]",
      "text/plain": [
       "<Figure size 432x288 with 2 Axes>"
      ]
     },
     "metadata": {
      "needs_background": "light"
     },
     "output_type": "display_data"
    }
   ],
   "source": [
    "disp = ConfusionMatrixDisplay(confusion_matrix = cm, display_labels = model.classes_)\n",
    "disp.plot()"
   ]
  },
  {
   "cell_type": "code",
   "execution_count": 64,
   "metadata": {},
   "outputs": [
    {
     "data": {
      "text/plain": [
       "0.8440938486973113"
      ]
     },
     "execution_count": 64,
     "metadata": {},
     "output_type": "execute_result"
    }
   ],
   "source": [
    "# Calculated the balanced accuracy score\n",
    "balanced_accuracy_score(y_test, y_pred)"
   ]
  },
  {
   "cell_type": "code",
   "execution_count": 65,
   "metadata": {},
   "outputs": [
    {
     "name": "stdout",
     "output_type": "stream",
     "text": [
      "                   pre       rec       spe        f1       geo       iba       sup\n",
      "\n",
      "  high_risk       0.04      0.82      0.87      0.07      0.84      0.71       101\n",
      "   low_risk       1.00      0.87      0.82      0.93      0.84      0.72     17104\n",
      "\n",
      "avg / total       0.99      0.87      0.82      0.92      0.84      0.72     17205\n",
      "\n"
     ]
    }
   ],
   "source": [
    "# Print the imbalanced classification report\n",
    "# base              high_risk       0.81      0.21      1.00      0.33 \n",
    "# random_oversample high_risk       0.03      0.82      0.84      0.06\n",
    "imb_report = classification_report_imbalanced(y_test, y_pred)\n",
    "print(imb_report)"
   ]
  },
  {
   "cell_type": "markdown",
   "metadata": {},
   "source": [
    "### Undersampling\n",
    "\n",
    "In this section, you will test an undersampling algorithms to determine which algorithm results in the best performance compared to the oversampling algorithms above. You will undersample the data using the Cluster Centroids algorithm and complete the folliowing steps:\n",
    "\n",
    "1. View the count of the target classes using `Counter` from the collections library. \n",
    "3. Use the resampled data to train a logistic regression model.\n",
    "3. Calculate the balanced accuracy score from sklearn.metrics.\n",
    "4. Print the confusion matrix from sklearn.metrics.\n",
    "5. Generate a classication report using the `imbalanced_classification_report` from imbalanced-learn.\n",
    "\n",
    "Note: Use a random state of 1 for each sampling algorithm to ensure consistency between tests"
   ]
  },
  {
   "cell_type": "code",
   "execution_count": 66,
   "metadata": {},
   "outputs": [],
   "source": [
    "# Resample the data using the ClusterCentroids resampler\n",
    "# Warning: This is a large dataset, and this step may take some time to complete\n",
    "cc = ClusterCentroids(random_state=1)\n",
    "X_resampled, y_resampled = cc.fit_resample(X_train, y_train)"
   ]
  },
  {
   "cell_type": "code",
   "execution_count": 67,
   "metadata": {},
   "outputs": [
    {
     "data": {
      "text/plain": [
       "array(['low_risk', 'low_risk', 'low_risk', ..., 'low_risk', 'high_risk',\n",
       "       'low_risk'], dtype=object)"
      ]
     },
     "execution_count": 67,
     "metadata": {},
     "output_type": "execute_result"
    }
   ],
   "source": [
    "# Train the Logistic Regression model using the resampled data\n",
    "# model\n",
    "model = LogisticRegression(solver = 'lbfgs', random_state = 1)\n",
    "\n",
    "# fit\n",
    "model.fit(X_resampled, y_resampled)\n",
    "\n",
    "# predict\n",
    "y_pred = model.predict(X_test)\n",
    "y_pred"
   ]
  },
  {
   "cell_type": "code",
   "execution_count": 68,
   "metadata": {},
   "outputs": [
    {
     "name": "stdout",
     "output_type": "stream",
     "text": [
      "[[   89    12]\n",
      " [ 4112 12992]]\n"
     ]
    }
   ],
   "source": [
    "# Display the confusion matrix\n",
    "cm = confusion_matrix(y_test, y_pred)\n",
    "print(cm)"
   ]
  },
  {
   "cell_type": "code",
   "execution_count": 69,
   "metadata": {},
   "outputs": [
    {
     "data": {
      "text/plain": [
       "<sklearn.metrics._plot.confusion_matrix.ConfusionMatrixDisplay at 0x169e0345388>"
      ]
     },
     "execution_count": 69,
     "metadata": {},
     "output_type": "execute_result"
    },
    {
     "data": {
      "image/png": "[encoded data removed]",
      "text/plain": [
       "<Figure size 432x288 with 2 Axes>"
      ]
     },
     "metadata": {
      "needs_background": "light"
     },
     "output_type": "display_data"
    }
   ],
   "source": [
    "disp = ConfusionMatrixDisplay(confusion_matrix = cm, display_labels = model.classes_)\n",
    "disp.plot()"
   ]
  },
  {
   "cell_type": "code",
   "execution_count": 70,
   "metadata": {},
   "outputs": [
    {
     "data": {
      "text/plain": [
       "0.8203882595930314"
      ]
     },
     "execution_count": 70,
     "metadata": {},
     "output_type": "execute_result"
    }
   ],
   "source": [
    "# Calculated the balanced accuracy score\n",
    "balanced_accuracy_score(y_test, y_pred)"
   ]
  },
  {
   "cell_type": "code",
   "execution_count": 71,
   "metadata": {},
   "outputs": [
    {
     "name": "stdout",
     "output_type": "stream",
     "text": [
      "                   pre       rec       spe        f1       geo       iba       sup\n",
      "\n",
      "  high_risk       0.02      0.88      0.76      0.04      0.82      0.68       101\n",
      "   low_risk       1.00      0.76      0.88      0.86      0.82      0.66     17104\n",
      "\n",
      "avg / total       0.99      0.76      0.88      0.86      0.82      0.66     17205\n",
      "\n"
     ]
    }
   ],
   "source": [
    "# Print the imbalanced classification report\n",
    "# base              high_risk       0.81      0.21      1.00      0.33 \n",
    "# random_oversample high_risk       0.03      0.82      0.84      0.06\n",
    "# smote             high_risk       0.04      0.82      0.87      0.07\n",
    "imb_report = classification_report_imbalanced(y_test, y_pred)\n",
    "print(imb_report)"
   ]
  },
  {
   "cell_type": "markdown",
   "metadata": {},
   "source": [
    "## Deliverable 2"
   ]
  },
  {
   "cell_type": "markdown",
   "metadata": {},
   "source": [
    "### Combination (Over and Under) Sampling\n",
    "\n",
    "In this section, you will test a combination over- and under-sampling algorithm to determine if the algorithm results in the best performance compared to the other sampling algorithms above. You will resample the data using the SMOTEENN algorithm and complete the folliowing steps:\n",
    "\n",
    "1. View the count of the target classes using `Counter` from the collections library. \n",
    "3. Use the resampled data to train a logistic regression model.\n",
    "3. Calculate the balanced accuracy score from sklearn.metrics.\n",
    "4. Print the confusion matrix from sklearn.metrics.\n",
    "5. Generate a classication report using the `imbalanced_classification_report` from imbalanced-learn.\n",
    "\n",
    "Note: Use a random state of 1 for each sampling algorithm to ensure consistency between tests"
   ]
  },
  {
   "cell_type": "code",
   "execution_count": 72,
   "metadata": {},
   "outputs": [],
   "source": [
    "# Resample the training data with SMOTEENN\n",
    "# Warning: This is a large dataset, and this step may take some time to complete\n",
    "smote_enn = SMOTEENN(random_state=1)\n",
    "X_resampled, y_resampled = smote_enn.fit_resample(X_train, y_train)"
   ]
  },
  {
   "cell_type": "code",
   "execution_count": 73,
   "metadata": {},
   "outputs": [
    {
     "data": {
      "text/plain": [
       "Counter({'high_risk': 51366, 'low_risk': 47640})"
      ]
     },
     "execution_count": 73,
     "metadata": {},
     "output_type": "execute_result"
    }
   ],
   "source": [
    "Counter(y_resampled)"
   ]
  },
  {
   "cell_type": "code",
   "execution_count": 74,
   "metadata": {},
   "outputs": [
    {
     "data": {
      "text/plain": [
       "array(['low_risk', 'low_risk', 'low_risk', ..., 'low_risk', 'low_risk',\n",
       "       'low_risk'], dtype=object)"
      ]
     },
     "execution_count": 74,
     "metadata": {},
     "output_type": "execute_result"
    }
   ],
   "source": [
    "# Train the Logistic Regression model using the resampled data\n",
    "# model\n",
    "model = LogisticRegression(solver = 'lbfgs', random_state = 1)\n",
    "\n",
    "# fit\n",
    "model.fit(X_resampled, y_resampled)\n",
    "\n",
    "# predict\n",
    "y_pred = model.predict(X_test)\n",
    "y_pred"
   ]
  },
  {
   "cell_type": "code",
   "execution_count": 75,
   "metadata": {},
   "outputs": [
    {
     "name": "stdout",
     "output_type": "stream",
     "text": [
      "[[   83    18]\n",
      " [ 2463 14641]]\n"
     ]
    }
   ],
   "source": [
    "# Display the confusion matrix\n",
    "cm = confusion_matrix(y_test, y_pred)\n",
    "print(cm)"
   ]
  },
  {
   "cell_type": "code",
   "execution_count": 77,
   "metadata": {},
   "outputs": [
    {
     "data": {
      "text/plain": [
       "<sklearn.metrics._plot.confusion_matrix.ConfusionMatrixDisplay at 0x1699ce7ff48>"
      ]
     },
     "execution_count": 77,
     "metadata": {},
     "output_type": "execute_result"
    },
    {
     "data": {
      "image/png": "[encoded data removed]",
      "text/plain": [
       "<Figure size 432x288 with 2 Axes>"
      ]
     },
     "metadata": {
      "needs_background": "light"
     },
     "output_type": "display_data"
    }
   ],
   "source": [
    "disp = ConfusionMatrixDisplay(confusion_matrix = cm, display_labels = model.classes_)\n",
    "disp.plot()"
   ]
  },
  {
   "cell_type": "code",
   "execution_count": 76,
   "metadata": {},
   "outputs": [
    {
     "data": {
      "text/plain": [
       "0.8388903875186395"
      ]
     },
     "execution_count": 76,
     "metadata": {},
     "output_type": "execute_result"
    }
   ],
   "source": [
    "# Calculated the balanced accuracy score\n",
    "balanced_accuracy_score(y_test, y_pred)"
   ]
  },
  {
   "cell_type": "code",
   "execution_count": 78,
   "metadata": {},
   "outputs": [
    {
     "name": "stdout",
     "output_type": "stream",
     "text": [
      "                   pre       rec       spe        f1       geo       iba       sup\n",
      "\n",
      "  high_risk       0.03      0.82      0.86      0.06      0.84      0.70       101\n",
      "   low_risk       1.00      0.86      0.82      0.92      0.84      0.71     17104\n",
      "\n",
      "avg / total       0.99      0.86      0.82      0.92      0.84      0.71     17205\n",
      "\n"
     ]
    }
   ],
   "source": [
    "# Print the imbalanced classification report\n",
    "# base              high_risk       0.81      0.21      1.00      0.33 \n",
    "# random_oversample high_risk       0.03      0.82      0.84      0.06\n",
    "# smote             high_risk       0.04      0.82      0.87      0.07\n",
    "# undersample       high_risk       0.02      0.88      0.76      0.04\n",
    "imb_report = classification_report_imbalanced(y_test, y_pred)\n",
    "print(imb_report)"
   ]
  }
 ],
 "metadata": {
  "kernelspec": {
   "display_name": "mlenv",
   "language": "python",
   "name": "mlenv"
  },
  "language_info": {
   "codemirror_mode": {
    "name": "ipython",
    "version": 3
   },
   "file_extension": ".py",
   "mimetype": "text/x-python",
   "name": "python",
   "nbconvert_exporter": "python",
   "pygments_lexer": "ipython3",
   "version": "3.7.13"
  }
 },
 "nbformat": 4,
 "nbformat_minor": 4
}
